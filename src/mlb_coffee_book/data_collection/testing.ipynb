{
 "cells": [
  {
   "cell_type": "code",
   "execution_count": 1,
   "metadata": {},
   "outputs": [],
   "source": [
    "from main import TranscriptScraper"
   ]
  },
  {
   "cell_type": "code",
   "execution_count": 2,
   "metadata": {},
   "outputs": [],
   "source": [
    "scraper = TranscriptScraper(start_date='2024-06-06', end_date='2024-06-06')"
   ]
  },
  {
   "cell_type": "code",
   "execution_count": 3,
   "metadata": {},
   "outputs": [
    {
     "name": "stdout",
     "output_type": "stream",
     "text": [
      "Home-TV-en-3850\n",
      "yt-dlp -f Home-TV-en-3850 --write-subs --sub-lang en --embed-subs -P ../../../data/raw_transcripts --username jaredzrks0@gmail.com --password Emiliopagan450 --skip-download https://www.mlb.com/tv/g744923/vc993d634-cb00-42b6-9a2d-5beafe96e808\n"
     ]
    },
    {
     "ename": "KeyboardInterrupt",
     "evalue": "",
     "output_type": "error",
     "traceback": [
      "\u001b[0;31m---------------------------------------------------------------------------\u001b[0m",
      "\u001b[0;31mKeyboardInterrupt\u001b[0m                         Traceback (most recent call last)",
      "Cell \u001b[0;32mIn[3], line 1\u001b[0m\n\u001b[0;32m----> 1\u001b[0m \u001b[43mscraper\u001b[49m\u001b[38;5;241;43m.\u001b[39;49m\u001b[43mbuild_and_save_transcripts\u001b[49m\u001b[43m(\u001b[49m\u001b[43m)\u001b[49m\n",
      "File \u001b[0;32m~/Desktop/Python/mlb_coffee_book/src/mlb_coffee_book/data-collection/main.py:55\u001b[0m, in \u001b[0;36mTranscriptScraper.build_and_save_transcripts\u001b[0;34m(self)\u001b[0m\n\u001b[1;32m     53\u001b[0m     \u001b[38;5;28mprint\u001b[39m(best_home)\n\u001b[1;32m     54\u001b[0m     time\u001b[38;5;241m.\u001b[39msleep(\u001b[38;5;241m2\u001b[39m)\n\u001b[0;32m---> 55\u001b[0m     \u001b[38;5;28;43mself\u001b[39;49m\u001b[38;5;241;43m.\u001b[39;49m\u001b[43m_download_video_and_subtitles\u001b[49m\u001b[43m(\u001b[49m\u001b[43mgame_url\u001b[49m\u001b[43m,\u001b[49m\u001b[43m \u001b[49m\u001b[43mbest_home\u001b[49m\u001b[43m,\u001b[49m\u001b[43m \u001b[49m\u001b[43mdownload_video\u001b[49m\u001b[38;5;241;43m=\u001b[39;49m\u001b[38;5;28;43;01mFalse\u001b[39;49;00m\u001b[43m)\u001b[49m\n\u001b[1;32m     57\u001b[0m \u001b[38;5;28mprint\u001b[39m(\u001b[38;5;124m'\u001b[39m\u001b[38;5;124mFinished!\u001b[39m\u001b[38;5;124m'\u001b[39m)\n",
      "File \u001b[0;32m~/Desktop/Python/mlb_coffee_book/src/mlb_coffee_book/data-collection/main.py:166\u001b[0m, in \u001b[0;36mTranscriptScraper._download_video_and_subtitles\u001b[0;34m(self, url, format_code, download_video)\u001b[0m\n\u001b[1;32m    163\u001b[0m \u001b[38;5;28mprint\u001b[39m(\u001b[38;5;124m\"\u001b[39m\u001b[38;5;124m \u001b[39m\u001b[38;5;124m\"\u001b[39m\u001b[38;5;241m.\u001b[39mjoin(command))\n\u001b[1;32m    165\u001b[0m \u001b[38;5;66;03m# Run the command\u001b[39;00m\n\u001b[0;32m--> 166\u001b[0m result \u001b[38;5;241m=\u001b[39m \u001b[43msubprocess\u001b[49m\u001b[38;5;241;43m.\u001b[39;49m\u001b[43mrun\u001b[49m\u001b[43m(\u001b[49m\u001b[43mcommand\u001b[49m\u001b[43m,\u001b[49m\u001b[43m \u001b[49m\u001b[43mstdout\u001b[49m\u001b[38;5;241;43m=\u001b[39;49m\u001b[43msubprocess\u001b[49m\u001b[38;5;241;43m.\u001b[39;49m\u001b[43mPIPE\u001b[49m\u001b[43m,\u001b[49m\u001b[43m \u001b[49m\u001b[43mstderr\u001b[49m\u001b[38;5;241;43m=\u001b[39;49m\u001b[43msubprocess\u001b[49m\u001b[38;5;241;43m.\u001b[39;49m\u001b[43mPIPE\u001b[49m\u001b[43m,\u001b[49m\u001b[43m \u001b[49m\u001b[43mtext\u001b[49m\u001b[38;5;241;43m=\u001b[39;49m\u001b[38;5;28;43;01mTrue\u001b[39;49;00m\u001b[43m)\u001b[49m\n\u001b[1;32m    168\u001b[0m \u001b[38;5;66;03m# Check if the download was successful\u001b[39;00m\n\u001b[1;32m    169\u001b[0m \u001b[38;5;28;01mif\u001b[39;00m result\u001b[38;5;241m.\u001b[39mreturncode \u001b[38;5;241m==\u001b[39m \u001b[38;5;241m0\u001b[39m:\n",
      "File \u001b[0;32m~/.pyenv/versions/3.10.0/lib/python3.10/subprocess.py:503\u001b[0m, in \u001b[0;36mrun\u001b[0;34m(input, capture_output, timeout, check, *popenargs, **kwargs)\u001b[0m\n\u001b[1;32m    501\u001b[0m \u001b[38;5;28;01mwith\u001b[39;00m Popen(\u001b[38;5;241m*\u001b[39mpopenargs, \u001b[38;5;241m*\u001b[39m\u001b[38;5;241m*\u001b[39mkwargs) \u001b[38;5;28;01mas\u001b[39;00m process:\n\u001b[1;32m    502\u001b[0m     \u001b[38;5;28;01mtry\u001b[39;00m:\n\u001b[0;32m--> 503\u001b[0m         stdout, stderr \u001b[38;5;241m=\u001b[39m \u001b[43mprocess\u001b[49m\u001b[38;5;241;43m.\u001b[39;49m\u001b[43mcommunicate\u001b[49m\u001b[43m(\u001b[49m\u001b[38;5;28;43minput\u001b[39;49m\u001b[43m,\u001b[49m\u001b[43m \u001b[49m\u001b[43mtimeout\u001b[49m\u001b[38;5;241;43m=\u001b[39;49m\u001b[43mtimeout\u001b[49m\u001b[43m)\u001b[49m\n\u001b[1;32m    504\u001b[0m     \u001b[38;5;28;01mexcept\u001b[39;00m TimeoutExpired \u001b[38;5;28;01mas\u001b[39;00m exc:\n\u001b[1;32m    505\u001b[0m         process\u001b[38;5;241m.\u001b[39mkill()\n",
      "File \u001b[0;32m~/.pyenv/versions/3.10.0/lib/python3.10/subprocess.py:1149\u001b[0m, in \u001b[0;36mPopen.communicate\u001b[0;34m(self, input, timeout)\u001b[0m\n\u001b[1;32m   1146\u001b[0m     endtime \u001b[38;5;241m=\u001b[39m \u001b[38;5;28;01mNone\u001b[39;00m\n\u001b[1;32m   1148\u001b[0m \u001b[38;5;28;01mtry\u001b[39;00m:\n\u001b[0;32m-> 1149\u001b[0m     stdout, stderr \u001b[38;5;241m=\u001b[39m \u001b[38;5;28;43mself\u001b[39;49m\u001b[38;5;241;43m.\u001b[39;49m\u001b[43m_communicate\u001b[49m\u001b[43m(\u001b[49m\u001b[38;5;28;43minput\u001b[39;49m\u001b[43m,\u001b[49m\u001b[43m \u001b[49m\u001b[43mendtime\u001b[49m\u001b[43m,\u001b[49m\u001b[43m \u001b[49m\u001b[43mtimeout\u001b[49m\u001b[43m)\u001b[49m\n\u001b[1;32m   1150\u001b[0m \u001b[38;5;28;01mexcept\u001b[39;00m \u001b[38;5;167;01mKeyboardInterrupt\u001b[39;00m:\n\u001b[1;32m   1151\u001b[0m     \u001b[38;5;66;03m# https://bugs.python.org/issue25942\u001b[39;00m\n\u001b[1;32m   1152\u001b[0m     \u001b[38;5;66;03m# See the detailed comment in .wait().\u001b[39;00m\n\u001b[1;32m   1153\u001b[0m     \u001b[38;5;28;01mif\u001b[39;00m timeout \u001b[38;5;129;01mis\u001b[39;00m \u001b[38;5;129;01mnot\u001b[39;00m \u001b[38;5;28;01mNone\u001b[39;00m:\n",
      "File \u001b[0;32m~/.pyenv/versions/3.10.0/lib/python3.10/subprocess.py:2000\u001b[0m, in \u001b[0;36mPopen._communicate\u001b[0;34m(self, input, endtime, orig_timeout)\u001b[0m\n\u001b[1;32m   1993\u001b[0m     \u001b[38;5;28mself\u001b[39m\u001b[38;5;241m.\u001b[39m_check_timeout(endtime, orig_timeout,\n\u001b[1;32m   1994\u001b[0m                         stdout, stderr,\n\u001b[1;32m   1995\u001b[0m                         skip_check_and_raise\u001b[38;5;241m=\u001b[39m\u001b[38;5;28;01mTrue\u001b[39;00m)\n\u001b[1;32m   1996\u001b[0m     \u001b[38;5;28;01mraise\u001b[39;00m \u001b[38;5;167;01mRuntimeError\u001b[39;00m(  \u001b[38;5;66;03m# Impossible :)\u001b[39;00m\n\u001b[1;32m   1997\u001b[0m         \u001b[38;5;124m'\u001b[39m\u001b[38;5;124m_check_timeout(..., skip_check_and_raise=True) \u001b[39m\u001b[38;5;124m'\u001b[39m\n\u001b[1;32m   1998\u001b[0m         \u001b[38;5;124m'\u001b[39m\u001b[38;5;124mfailed to raise TimeoutExpired.\u001b[39m\u001b[38;5;124m'\u001b[39m)\n\u001b[0;32m-> 2000\u001b[0m ready \u001b[38;5;241m=\u001b[39m \u001b[43mselector\u001b[49m\u001b[38;5;241;43m.\u001b[39;49m\u001b[43mselect\u001b[49m\u001b[43m(\u001b[49m\u001b[43mtimeout\u001b[49m\u001b[43m)\u001b[49m\n\u001b[1;32m   2001\u001b[0m \u001b[38;5;28mself\u001b[39m\u001b[38;5;241m.\u001b[39m_check_timeout(endtime, orig_timeout, stdout, stderr)\n\u001b[1;32m   2003\u001b[0m \u001b[38;5;66;03m# XXX Rewrite these to use non-blocking I/O on the file\u001b[39;00m\n\u001b[1;32m   2004\u001b[0m \u001b[38;5;66;03m# objects; they are no longer using C stdio!\u001b[39;00m\n",
      "File \u001b[0;32m~/.pyenv/versions/3.10.0/lib/python3.10/selectors.py:416\u001b[0m, in \u001b[0;36m_PollLikeSelector.select\u001b[0;34m(self, timeout)\u001b[0m\n\u001b[1;32m    414\u001b[0m ready \u001b[38;5;241m=\u001b[39m []\n\u001b[1;32m    415\u001b[0m \u001b[38;5;28;01mtry\u001b[39;00m:\n\u001b[0;32m--> 416\u001b[0m     fd_event_list \u001b[38;5;241m=\u001b[39m \u001b[38;5;28;43mself\u001b[39;49m\u001b[38;5;241;43m.\u001b[39;49m\u001b[43m_selector\u001b[49m\u001b[38;5;241;43m.\u001b[39;49m\u001b[43mpoll\u001b[49m\u001b[43m(\u001b[49m\u001b[43mtimeout\u001b[49m\u001b[43m)\u001b[49m\n\u001b[1;32m    417\u001b[0m \u001b[38;5;28;01mexcept\u001b[39;00m \u001b[38;5;167;01mInterruptedError\u001b[39;00m:\n\u001b[1;32m    418\u001b[0m     \u001b[38;5;28;01mreturn\u001b[39;00m ready\n",
      "\u001b[0;31mKeyboardInterrupt\u001b[0m: "
     ]
    }
   ],
   "source": [
    "scraper.build_and_save_transcripts()"
   ]
  },
  {
   "cell_type": "code",
   "execution_count": 4,
   "metadata": {},
   "outputs": [
    {
     "data": {
      "text/plain": [
       "[]"
      ]
     },
     "execution_count": 4,
     "metadata": {},
     "output_type": "execute_result"
    }
   ],
   "source": [
    "scraper.game_urls"
   ]
  },
  {
   "cell_type": "code",
   "execution_count": null,
   "metadata": {},
   "outputs": [],
   "source": [
    "from selenium import webdriver\n",
    "import chromedriver_autoinstaller\n",
    "import subprocess\n",
    "import json\n",
    "\n",
    "\n",
    "chromedriver_autoinstaller.install()  # Check if the current version of chromedriver exists\n",
    "                                      # and if it doesn't exist, download it automatically,\n",
    "                                      # then add chromedriver to path\n",
    "\n",
    "driver = webdriver.Chrome()\n",
    "driver.get(\"http://www.python.org\")\n",
    "assert \"Python\" in driver.title"
   ]
  },
  {
   "cell_type": "code",
   "execution_count": null,
   "metadata": {},
   "outputs": [],
   "source": [
    "import pandas as pd\n",
    "import configparser\n",
    "import requests\n",
    "\n",
    "from bs4 import BeautifulSoup\n",
    "\n",
    "\n",
    "# Load the config file\n",
    "config = configparser.ConfigParser()\n",
    "config.read('../../../config.ini')\n",
    "\n",
    "# Access credentials\n",
    "username = config['credentials']['username']\n",
    "password = config['credentials']['password']\n"
   ]
  },
  {
   "cell_type": "markdown",
   "metadata": {},
   "source": [
    "## Scrape all the urls from mlb.com where games are listed\n",
    "\n",
    "On MLB.com, there is a webpage each day that lists all of the games that are played, in addition to the links to both the home and away broadcast. These links are where we will get the keywords needed to run the command line transcript downloader."
   ]
  },
  {
   "cell_type": "code",
   "execution_count": 18,
   "metadata": {},
   "outputs": [],
   "source": [
    "# Define the base url for the webpage that lists all of the day's games with links to the home and away video\n",
    "base_url = 'https://www.mlb.com/live-stream-games/'\n",
    "\n",
    "# Create a list of dates that are included in our pull (3 years are available)\n",
    "dates = pd.date_range('2022-04-01', '2024-11-10')\n",
    "suffixes = [date.strftime(\"%Y/%m/%d\") for date in dates]\n",
    "\n",
    "# Define the total list of URLs for the webpages with the day's games. Note this includes offseason days too\n",
    "total_day_urls = [base_url + suffix for suffix in suffixes]\n",
    "\n",
    "### Grab the game links from each day's URL ###\n",
    "\n",
    "# for url in total_day_urls:\n",
    "#     request = requests.get(url)\n",
    "#     soup = BeautifulSoup(request.text, 'html.parser')\n",
    "\n",
    "    "
   ]
  },
  {
   "cell_type": "code",
   "execution_count": 19,
   "metadata": {},
   "outputs": [
    {
     "name": "stdout",
     "output_type": "stream",
     "text": [
      "https://www.mlb.com/tv/g717770/vff9794bb-c975-4508-b3f4-9673deeaf30a\n",
      "https://www.mlb.com/tv/g717770/v0e33c608-bccc-4216-a170-87f1ceb8bfe4\n",
      "https://www.mlb.com/tv/g717770/v62c2171b-950f-40a2-8be4-0f7da9088d1c\n",
      "https://www.mlb.com/tv/g717770/vfe11f33d-9eb5-41e6-a58a-8ee38cbbf453\n",
      "https://www.mlb.com/tv/g717784/v34219737-8903-4169-8486-02ca9863dbc8\n",
      "https://www.mlb.com/tv/g717784/ved4dcb14-f371-48f4-b87e-4d697d3f3060\n",
      "https://www.mlb.com/tv/g717784/va56737dd-af4a-4198-9cac-1fa7a7c3ee21\n",
      "https://www.mlb.com/tv/g717784/v34ae9067-4062-447e-9f4d-60635dc137dc\n",
      "https://www.mlb.com/tv/g717771/v520f8a66-9a17-4ce4-96ac-b8c7d397983b\n",
      "https://www.mlb.com/tv/g717771/v88967c91-40ab-4143-bd94-ff5eae2b1fd4\n",
      "https://www.mlb.com/tv/g717771/vd9b51ead-1819-49d9-9a36-9b53d6ab34eb\n",
      "https://www.mlb.com/tv/g717771/vf3a88059-3d5a-4df5-9087-626c0d4e25a4\n",
      "https://www.mlb.com/tv/g717767/v3c28d166-89fd-4333-b38a-bd30adfacde2\n",
      "https://www.mlb.com/tv/g717767/v995f6b6c-195a-4d1d-bd6a-aa0da20e4f9e\n",
      "https://www.mlb.com/tv/g717767/v8bdbb01c-6f47-413e-8eaa-87f4bcc8ddf4\n",
      "https://www.mlb.com/tv/g717767/vb5a7abda-1957-43e9-a62f-ca11aa6749b4\n",
      "https://www.mlb.com/tv/g717769/v1da72427-1646-4a21-a063-0a6511a5545c\n",
      "https://www.mlb.com/tv/g717769/vb11dbd53-2bd0-4847-941b-cef05c9102d0\n",
      "https://www.mlb.com/tv/g717769/vc29c866c-841e-473e-b983-8c39616a9366\n",
      "https://www.mlb.com/tv/g717769/vd4c9ed4d-d1cc-4ee8-b414-122f55cd2f3d\n",
      "https://www.mlb.com/tv/g717768/v4fa5948e-fe86-41d2-bf17-e0f0e889de32\n",
      "https://www.mlb.com/tv/g717768/vd79401c0-ec18-40ff-a1a7-5ef12cbd3a54\n",
      "https://www.mlb.com/tv/g717768/vfb8dc486-654d-47b5-90f3-48cbc6d31995\n",
      "https://www.mlb.com/tv/g717768/vc810aae5-b972-4644-ae86-1e4af192699c\n",
      "https://www.mlb.com/tv/g717766/v2991715d-a939-415d-809f-f349eaa5340d\n",
      "https://www.mlb.com/tv/g717766/vb8ec5dd7-a521-4ad7-bb75-3d68b4dc6f57\n",
      "https://www.mlb.com/tv/g717766/vfac39523-9c75-4f9b-8758-6880a3aaac48\n",
      "https://www.mlb.com/tv/g717763/v69bbb56a-ea33-47e4-8d69-932666bdc998\n",
      "https://www.mlb.com/tv/g717763/vcbb5e72a-5ec0-46ff-a3a7-db97acd95cb1\n",
      "https://www.mlb.com/tv/g717763/veffd726c-b27e-4945-baf4-e545ed6b599f\n",
      "https://www.mlb.com/tv/g717763/v1908cc69-6d01-4652-b367-38667fedb4c7\n",
      "https://www.mlb.com/tv/g717765/vd5087e80-7726-4481-b25f-8de71d1b9d43\n",
      "https://www.mlb.com/tv/g717765/vcd481895-ed86-4db0-afef-61379a2d8d99\n",
      "https://www.mlb.com/tv/g717765/v06ce9a65-80ed-4de9-be91-230345a814eb\n",
      "https://www.mlb.com/tv/g717765/va2ea412f-25e1-4567-a08e-0ce094af43f2\n",
      "https://www.mlb.com/tv/g717764/v964dd978-9ba3-4dd1-8d2c-a9b7d3c7ec39\n",
      "https://www.mlb.com/tv/g717764/v24b86e0d-6174-487c-9c6c-f21adc51f4da\n",
      "https://www.mlb.com/tv/g717764/v4aaf52c2-5071-4a4a-8d7b-51f0ec398be3\n",
      "https://www.mlb.com/tv/g717764/vcf0ec13d-2ed1-4d38-adfe-bbe1edee3279\n",
      "https://www.mlb.com/tv/g717762/vd5b6061f-c0ed-4879-a6da-2b8813b9e1fc\n",
      "https://www.mlb.com/tv/g717762/v65aa815e-9ecb-4ce3-9c4c-8ef6d78d406e\n",
      "https://www.mlb.com/tv/g717762/v76379e80-02f5-4bcf-a4af-ca551ed44a95\n",
      "https://www.mlb.com/tv/g717762/va2189a3a-6aac-4f69-92a0-b8c8aa867f9e\n",
      "https://www.mlb.com/tv/g717758/vd766d215-03da-4988-9ca5-fa06658ac7ce\n",
      "https://www.mlb.com/tv/g717758/ve414adfd-9955-45e5-8409-8f08c7053fc6\n",
      "https://www.mlb.com/tv/g717758/v31e04882-766e-43e6-9800-12c3d11a9f47\n",
      "https://www.mlb.com/tv/g717758/v7ef864d4-64b7-484a-8b9f-de5b627c52f1\n",
      "https://www.mlb.com/tv/g717761/vc2193cf6-4cb7-4323-be59-f89e3d341e29\n",
      "https://www.mlb.com/tv/g717761/v5e198613-0f85-4d8a-8935-96585866f32e\n",
      "https://www.mlb.com/tv/g717761/vc7840ca7-acf2-4426-9407-fb056d4711e3\n",
      "https://www.mlb.com/tv/g717761/vf1d5c1bf-0107-47a7-8256-81be1126c6d1\n",
      "https://www.mlb.com/tv/g717757/v0e76dbd2-efd4-4cbe-a9e2-7764587d8db5\n",
      "https://www.mlb.com/tv/g717757/v91453a3b-05f4-403c-8759-22b9eb0929ad\n",
      "https://www.mlb.com/tv/g717757/v33d2ef88-c052-4fa7-849e-f3cbe1eca216\n",
      "https://www.mlb.com/tv/g717757/vb87d9c20-ac23-4f3f-bb9e-9f9241db857b\n",
      "https://www.mlb.com/tv/g717759/vcb0c5cbd-888c-4dbe-b18e-12691087fdea\n",
      "https://www.mlb.com/tv/g717759/vb687f250-9058-4133-8919-2e13e75bfd75\n",
      "https://www.mlb.com/tv/g717759/v48acb841-04e0-410c-bc5d-4c847d5b6a30\n",
      "https://www.mlb.com/tv/g717759/v3db66a45-d659-4a29-b13f-1d67fcb3723c\n",
      "https://www.mlb.com/tv/g717760/v3f28a48d-63d8-49da-8266-3c56be183a6f\n",
      "https://www.mlb.com/tv/g717760/vf3e13133-e27a-44dd-ac52-843439e064c4\n",
      "https://www.mlb.com/tv/g717760/v287236b7-1dae-4b7c-afd0-99069c5db7e5\n"
     ]
    }
   ],
   "source": [
    "from selenium import webdriver\n",
    "from selenium.webdriver.chrome.service import Service\n",
    "from selenium.webdriver.common.by import By\n",
    "from selenium.webdriver.support.ui import WebDriverWait\n",
    "from selenium.webdriver.support import expected_conditions as EC\n",
    "import time\n",
    "\n",
    "# Set up Selenium\n",
    "driver = webdriver.Chrome()\n",
    "\n",
    "# Open the MLB page\n",
    "url = \"https://www.mlb.com/live-stream-games/2023/06/14\"\n",
    "driver.get(url)\n",
    "\n",
    "# Wait for elements to load (adjust timeout as needed)\n",
    "try:\n",
    "    # Wait until the element is clickable (replace with the correct selector)\n",
    "    button = WebDriverWait(driver, 2.5).until(\n",
    "        EC.element_to_be_clickable((By.ID, \"onetrust-accept-btn-handler\"))  # Modify selector as needed\n",
    "    )\n",
    "    button.click()\n",
    "except Exception as e:\n",
    "    pass\n",
    "\n",
    "time.sleep(1)\n",
    "html = driver.page_source\n",
    "soup = BeautifulSoup(html, 'html.parser')\n",
    "\n",
    "links = soup.find_all(\"a\", class_=\"whitespace-nowrap below-420:w-[100px] below-420:truncate text-mlb-blue-link\")\n",
    "\n",
    "# Print all href links\n",
    "for link in links:\n",
    "    print('https://www.mlb.com' + link[\"href\"])\n",
    "\n"
   ]
  },
  {
   "cell_type": "code",
   "execution_count": null,
   "metadata": {},
   "outputs": [
    {
     "name": "stdout",
     "output_type": "stream",
     "text": [
      "Best Home Broadcast Format Code: Home-TV-en-4160\n",
      "Best Away Broadcast Format Code: None\n"
     ]
    }
   ],
   "source": [
    "\n",
    "\n",
    "def get_best_broadcasts(url, username, password):\n",
    "    import subprocess\n",
    "    import json\n",
    "\n",
    "    command = [\n",
    "        'yt-dlp', '-j', '--username', username, '--password', password, url\n",
    "    ]\n",
    "    \n",
    "    result = subprocess.run(command, stdout=subprocess.PIPE, stderr=subprocess.PIPE, text=True)\n",
    "\n",
    "    if result.returncode != 0:\n",
    "        print(\"yt-dlp error:\", result.stderr)\n",
    "        return None, None\n",
    "\n",
    "    try:\n",
    "        video_info = json.loads(result.stdout)\n",
    "    except json.JSONDecodeError:\n",
    "        print(\"Failed to parse yt-dlp output as JSON.\")\n",
    "        return None, None\n",
    "    \n",
    "    formats = video_info.get('formats', [])\n",
    "\n",
    "    home_broadcasts = [f for f in formats if 'Home' in f.get('format_note', '')]\n",
    "    away_broadcasts = [f for f in formats if 'Away' in f.get('format_note', '')]\n",
    "\n",
    "    best_home = max(home_broadcasts, key=lambda f: f.get('width', 0)) if home_broadcasts else None\n",
    "    best_away = max(away_broadcasts, key=lambda f: f.get('width', 0)) if away_broadcasts else None\n",
    "\n",
    "    home_id = best_home['format_id'] if best_home else None\n",
    "    away_id = best_away['format_id'] if best_away else None\n",
    "\n",
    "    return home_id, away_id\n",
    "\n",
    "\n",
    "# Example usage\n",
    "url = \"https://www.mlb.com/tv/g747185/vfd3b7ded-13e6-4809-97d1-be14a810750f#game=747185,tfs=20240627_194000,game_state=live\"\n",
    "url = 'https://www.mlb.com/tv/g717760/vf3e13133-e27a-44dd-ac52-843439e064c4'\n",
    "username = \"jaredzrks0@gmail.com\"\n",
    "password = \"Emiliopagan450\"\n",
    "\n",
    "home_format_code, away_format_code = get_best_broadcasts(url, username, password)\n",
    "print(f\"Best Home Broadcast Format Code: {home_format_code}\")\n",
    "print(f\"Best Away Broadcast Format Code: {away_format_code}\")\n"
   ]
  },
  {
   "cell_type": "code",
   "execution_count": 21,
   "metadata": {},
   "outputs": [
    {
     "name": "stdout",
     "output_type": "stream",
     "text": [
      "yt-dlp -f Home-TV-en-4160 --write-subs --sub-lang en --embed-subs --username jaredzrks0@gmail.com --password Emiliopagan450 --skip-download https://www.mlb.com/tv/g717766/v2991715d-a939-415d-809f-f349eaa5340d\n",
      "Download successful!\n",
      "[MLBTV] Logging in\n",
      "[MLBTV] Downloading session ID\n",
      "[MLBTV] Extracting URL: https://www.mlb.com/tv/g717766/v2991715d-a939-415d-809f-f349eaa5340d\n",
      "[MLBTV] 717766: Downloading JSON metadata\n",
      "[MLBTV] 717766: Downloading Home-TV-en broadcast JSON\n",
      "[MLBTV] 717766: Downloading m3u8 information\n",
      "[MLBTV] 717766: Downloading Away-TV-en broadcast JSON\n",
      "[MLBTV] 717766: Downloading Away-AM-en broadcast JSON\n",
      "[MLBTV] 717766: Downloading Home-AM-en broadcast JSON\n",
      "[MLBTV] 717766: Downloading Away-AM-es broadcast JSON\n",
      "[MLBTV] 717766: Downloading Home-AM-es broadcast JSON\n",
      "[MLBTV] 717766: Downloading Home-AM-es broadcast JSON\n",
      "[info] 717766: Downloading subtitles: en\n",
      "[info] 717766: Downloading 1 format(s): Home-TV-en-4160\n",
      "Deleting existing file 2023-06-14 - New York Yankees @ New York Mets [717766].en.vtt\n",
      "[info] Writing video subtitles to: 2023-06-14 - New York Yankees @ New York Mets [717766].en.vtt\n",
      "[hlsnative] Downloading m3u8 manifest\n",
      "[hlsnative] Total fragments: 1\n",
      "[download] Destination: 2023-06-14 - New York Yankees @ New York Mets [717766].en.vtt\n",
      "\n",
      "[download]   0.4% of ~ 263.71KiB at      0.00B/s ETA Unknown (frag 0/1)\n",
      "[download]   1.1% of ~ 264.71KiB at      0.00B/s ETA Unknown (frag 0/1)\n",
      "[download]   2.6% of ~ 266.71KiB at      0.00B/s ETA Unknown (frag 0/1)\n",
      "[download]   5.5% of ~ 270.71KiB at      0.00B/s ETA Unknown (frag 0/1)\n",
      "[download]  11.1% of ~ 278.71KiB at      0.00B/s ETA Unknown (frag 0/1)\n",
      "[download]  21.4% of ~ 294.71KiB at      0.00B/s ETA Unknown (frag 0/1)\n",
      "[download]  38.9% of ~ 326.71KiB at  727.94KiB/s ETA Unknown (frag 0/1)\n",
      "[download]  65.3% of ~ 390.71KiB at  727.94KiB/s ETA Unknown (frag 0/1)\n",
      "[download]  50.8% of ~ 518.71KiB at  727.94KiB/s ETA Unknown (frag 0/1)\n",
      "[download]  50.0% of ~ 527.42KiB at  727.94KiB/s ETA Unknown (frag 1/1)\n",
      "[download] 100% of  263.71KiB in 00:00:00 at 3.50MiB/s                 \n",
      "\n"
     ]
    }
   ],
   "source": [
    "import subprocess\n",
    "\n",
    "def download_video_and_subtitles(url, username, password, format_code, download_video=True):\n",
    "    # Base yt-dlp command\n",
    "    command = ['yt-dlp']\n",
    "  \n",
    "    # Add options for subtitles\n",
    "    command.extend([\n",
    "        '-f', format_code,\n",
    "        '--write-subs',           # Write subtitles\n",
    "        '--sub-lang', 'en',       # Use English subtitles\n",
    "        '--embed-subs',           # Embed subtitles in the video\n",
    "        '--username', username,\n",
    "        '--password', password,\n",
    "    ])\n",
    "\n",
    "    if download_video == False:\n",
    "        command.extend(['--skip-download'])\n",
    "    \n",
    "\n",
    "    # Add the URL to the command\n",
    "    command.append(url)\n",
    "    print(\" \".join(command))\n",
    "    \n",
    "    # Run the command\n",
    "    result = subprocess.run(command, stdout=subprocess.PIPE, stderr=subprocess.PIPE, text=True)\n",
    "    \n",
    "    # Check if the download was successful\n",
    "    if result.returncode == 0:\n",
    "        print(\"Download successful!\")\n",
    "        print(result.stdout)\n",
    "    else:\n",
    "        print(\"Error occurred during download.\")\n",
    "        print(result.stderr)\n",
    "\n",
    "# Example usage:\n",
    "url = \"https://www.mlb.com/tv/g747185/vfd3b7ded-13e6-4809-97d1-be14a810750f#game=747185,tfs=20240627_194000,game_state=live\"\n",
    "url = 'https://www.mlb.com/tv/g717766/v2991715d-a939-415d-809f-f349eaa5340d'\n",
    "username = \"jaredzrks0@gmail.com\"\n",
    "password = \"Emiliopagan450\"\n",
    "format_code = 'Home-TV-en-4160'\n",
    "\n",
    "# To download subtitles only (without video)\n",
    "download_video_and_subtitles(url, username, password, format_code, download_video=False)\n"
   ]
  },
  {
   "cell_type": "code",
   "execution_count": 22,
   "metadata": {},
   "outputs": [
    {
     "name": "stdout",
     "output_type": "stream",
     "text": [
      "Successfully converted 2023-06-14 - New York Yankees @ New York Mets [717766].en.vtt to subtitles.srt\n"
     ]
    }
   ],
   "source": [
    "import subprocess\n",
    "\n",
    "def convert_vtt_to_srt(input_file, output_file):\n",
    "    try:\n",
    "        subprocess.run(\n",
    "            ['ffmpeg', '-y', '-i', input_file, '-map', '0:s:0', output_file],\n",
    "            check=True,\n",
    "            stdout=subprocess.PIPE,\n",
    "            stderr=subprocess.PIPE,\n",
    "        )\n",
    "        print(f\"Successfully converted {input_file} to {output_file}\")\n",
    "    except subprocess.CalledProcessError as e:\n",
    "        print(\"FFmpeg error:\", e.stderr.decode())\n",
    "\n",
    "# Example usage\n",
    "convert_vtt_to_srt('2023-06-14 - New York Yankees @ New York Mets [717766].en.vtt', 'subtitles.srt')"
   ]
  },
  {
   "cell_type": "code",
   "execution_count": 1,
   "metadata": {},
   "outputs": [
    {
     "ename": "FileNotFoundError",
     "evalue": "[Errno 2] No such file or directory: 'subtitles.srt'",
     "output_type": "error",
     "traceback": [
      "\u001b[0;31m---------------------------------------------------------------------------\u001b[0m",
      "\u001b[0;31mFileNotFoundError\u001b[0m                         Traceback (most recent call last)",
      "Cell \u001b[0;32mIn[1], line 1\u001b[0m\n\u001b[0;32m----> 1\u001b[0m \u001b[38;5;28;01mwith\u001b[39;00m \u001b[38;5;28;43mopen\u001b[39;49m\u001b[43m(\u001b[49m\u001b[38;5;124;43m'\u001b[39;49m\u001b[38;5;124;43msubtitles.srt\u001b[39;49m\u001b[38;5;124;43m'\u001b[39;49m\u001b[43m,\u001b[49m\u001b[43m \u001b[49m\u001b[38;5;124;43m'\u001b[39;49m\u001b[38;5;124;43mr\u001b[39;49m\u001b[38;5;124;43m'\u001b[39;49m\u001b[43m,\u001b[49m\u001b[43m \u001b[49m\u001b[43mencoding\u001b[49m\u001b[38;5;241;43m=\u001b[39;49m\u001b[38;5;124;43m'\u001b[39;49m\u001b[38;5;124;43mutf-8\u001b[39;49m\u001b[38;5;124;43m'\u001b[39;49m\u001b[43m)\u001b[49m \u001b[38;5;28;01mas\u001b[39;00m file:\n\u001b[1;32m      2\u001b[0m             content \u001b[38;5;241m=\u001b[39m file\u001b[38;5;241m.\u001b[39mread()\n",
      "File \u001b[0;32m~/Desktop/Python/mlb_coffee_book/.venv/lib/python3.10/site-packages/IPython/core/interactiveshell.py:324\u001b[0m, in \u001b[0;36m_modified_open\u001b[0;34m(file, *args, **kwargs)\u001b[0m\n\u001b[1;32m    317\u001b[0m \u001b[38;5;28;01mif\u001b[39;00m file \u001b[38;5;129;01min\u001b[39;00m {\u001b[38;5;241m0\u001b[39m, \u001b[38;5;241m1\u001b[39m, \u001b[38;5;241m2\u001b[39m}:\n\u001b[1;32m    318\u001b[0m     \u001b[38;5;28;01mraise\u001b[39;00m \u001b[38;5;167;01mValueError\u001b[39;00m(\n\u001b[1;32m    319\u001b[0m         \u001b[38;5;124mf\u001b[39m\u001b[38;5;124m\"\u001b[39m\u001b[38;5;124mIPython won\u001b[39m\u001b[38;5;124m'\u001b[39m\u001b[38;5;124mt let you open fd=\u001b[39m\u001b[38;5;132;01m{\u001b[39;00mfile\u001b[38;5;132;01m}\u001b[39;00m\u001b[38;5;124m by default \u001b[39m\u001b[38;5;124m\"\u001b[39m\n\u001b[1;32m    320\u001b[0m         \u001b[38;5;124m\"\u001b[39m\u001b[38;5;124mas it is likely to crash IPython. If you know what you are doing, \u001b[39m\u001b[38;5;124m\"\u001b[39m\n\u001b[1;32m    321\u001b[0m         \u001b[38;5;124m\"\u001b[39m\u001b[38;5;124myou can use builtins\u001b[39m\u001b[38;5;124m'\u001b[39m\u001b[38;5;124m open.\u001b[39m\u001b[38;5;124m\"\u001b[39m\n\u001b[1;32m    322\u001b[0m     )\n\u001b[0;32m--> 324\u001b[0m \u001b[38;5;28;01mreturn\u001b[39;00m \u001b[43mio_open\u001b[49m\u001b[43m(\u001b[49m\u001b[43mfile\u001b[49m\u001b[43m,\u001b[49m\u001b[43m \u001b[49m\u001b[38;5;241;43m*\u001b[39;49m\u001b[43margs\u001b[49m\u001b[43m,\u001b[49m\u001b[43m \u001b[49m\u001b[38;5;241;43m*\u001b[39;49m\u001b[38;5;241;43m*\u001b[39;49m\u001b[43mkwargs\u001b[49m\u001b[43m)\u001b[49m\n",
      "\u001b[0;31mFileNotFoundError\u001b[0m: [Errno 2] No such file or directory: 'subtitles.srt'"
     ]
    }
   ],
   "source": [
    "with open('subtitles.srt', 'r', encoding='utf-8') as file:\n",
    "            content = file.read()"
   ]
  },
  {
   "cell_type": "code",
   "execution_count": 24,
   "metadata": {},
   "outputs": [],
   "source": [
    "def extract_timestamp_groups(filepath):\n",
    "    with open(filepath, 'r', encoding='utf-8') as f:\n",
    "        content = f.read()\n",
    "\n",
    "    # Split on double newlines (empty line separates groups in SRT)\n",
    "    groups = content.strip().split('\\n\\n')\n",
    "\n",
    "    timestamp_groups = []\n",
    "    for group in groups:\n",
    "        lines = group.strip().split('\\n')\n",
    "        # Usually first line: index, second line: timestamp, rest: text\n",
    "        if len(lines) >= 2:\n",
    "            timestamp_line = lines[1]\n",
    "            text_lines = lines[2:] if len(lines) > 2 else []\n",
    "            # Join timestamp + text (skip index line)\n",
    "            timestamp_groups.append('\\n'.join(text_lines))\n",
    "    \n",
    "    return timestamp_groups\n",
    "\n",
    "# Example usage:\n",
    "timestamp_groups = extract_timestamp_groups('subtitles.srt')"
   ]
  },
  {
   "cell_type": "code",
   "execution_count": 25,
   "metadata": {},
   "outputs": [
    {
     "name": "stdout",
     "output_type": "stream",
     "text": [
      "AND DAVIDCONE, KAEL, TAKE IT AWAY. AND DAVIDCONE, KAEL, TAKE IT AWAY. KARL: WELCOME TO CITI FIELD WHERE THE SKIES HAVE CLEARED, THE RAIN HAS PASSED, AND YOU CAN SEE AN OUTSTANDING NIGHT OF BASEBALL. GOOD WEATHER, GOOD TEAMS. THE METS STRUGGLING RIGHT NOW BUT JUSTIN VERLANDER WILL BE ON THE BUMP AND HE AND ASKED SCHERZER HAVE NOT BEEN LEADING THEM WHERE THEY WANT TO. CAN HE TURN IT AROUND AGAINST A FORMER TEAMMATE? AND THE GUY WHO HAS HAD A PHENOMENAL SEASON? GERRIT COLE OF THE NEW YORK YANKEES. IT IS THE SUBWAY SERIES. TWO ACES ON THE MOUND AND THEY HAVE GOTTEN TOGETHER BEFORE. YES, ON THE SAME TEAM. THEY ALSO FACED EACH OTHER. YOU HAVE TO GO BACK TO 2015. REMEMBER THE PITTSBURGH PIRATES. VERLANDER HITS STARLING MARTE IN THAT GAME. IT ENDED UP GOING 14 INNINGS. NEITHER GUY FINISHED AS SOMEBODY INVOLVED IN THE DECISION. THEY EACH WENT SIX. FIVE WALKS FOR VERLANDER IN THAT GAME. THEY GOT TOGETHER IN HOUSTON IN 18 AND 19 AND THAT IS WHERE BRENT STROM CONVINCED THEM, LET‘S DITCH THE TWO SEAMER AND GO INTO THE FOUR SEAM FASTBALL. IT LED VERLANDER TO A WORLD SERIES TITLE AND MADE BOTH OF THEM A TON OF MONEY AND NOW, THEY ARE ON THE SAME FIELD, FACING OFF AGAINST EACH OTHER AS WE GET SET FOR THE SECOND NIGHT OF THE SUBWAY SERIES. THE YANKEES WON LAST NIGHT 7-6, IN A GAME THAT REALLY FELT OLD-SCHOOL. A LOT OF OFFENSE. NOT A CRISP GAME. MAYBE TONIGHT WILL BE DIFFERENT. WELCOME, EVERYBODY. 1-9 IN THEIR LAST 10. VERLANDER IS THE GUY. THEY ARE LOOKING TO HIM TO TURN THIS THING AROUND. WHAT WILL IT TAKE FOR HIM TO FIND THAT AGAIN? JACKIE: -- DAVID: GET CONFIDENCE IN HIS FASTBALL AGAIN. IS IT THE SAME? ARE HIS SKILLS DIMINISHING? WE NEED TO GIVE HIM A LITTLE MORE TIME TO ROUND INTO FORM. HE HAD A BIG INJURY IN THE BACK OF HIS SHOULDER. THE COMPARISON ON THAT FOUR-SEAM FASTBALL, 2022. THE VELO, THE INCHES OF DROP. LESS IS MORE WITH THAT NUMBER COMPARED TO THIS YEAR. THE INCHES HAVE DROPPED. THAT IS THE ACTION. THE RIDING ACTION ON THE FOUR SEAMER UP IN THE ZONE. THE O.P.S. TELLS THE STORY AS WELL, GETTING HIT. THIS GUY HAS BEEN OUTSTANDING. FRANCISCO ALVAREZ. THEY ARE WAITING FOR VERLANDER TO TAKE THE MOUND. VERLANDER DOES NOT HAVE TO WORRY ABOUT AARON JUDGE. DOES NOT HAVE TO WORRY ABOUT PETE ALONSO. AS FAR AS THE OFFENSES GO, WHEN YOU GET THE NIGHT OFF FROM THOSE TWO, WHO DO YOU HAVE TO FOCUS ON? EDUARDO: GIANCARLO STANTON. THIS IS HIS HOME AWAY FROM HOME. 24 HOME RUNS. MORE THAN ANY PLAYER TO HAVE PLAYED IN THIS BALLPARK. WHEN YOU LOOK AT THE NEW YORK METS AND FRANCISCO LINDOR, HE HAS TO GET IT GOING ESPECIALLY SWINGING FROM THE LEFT SIDE WHERE HE STRUGGLED. WHAT DID YOU SEE? YOU WERE HERE LAST NIGHT AND CALLED AGAIN. WHAT DID YOU SEE FROM THE TWO TEAMS? WHAT WAS THE ATMOSPHERE LIKE? WHAT CAN FOLKS AT HOME WERE WATCHING ANTICIPATE? DAVID: IN MAJOR MARKETS, THE APPETITE IS STILL HERE. BIG CROWDS, THE REACTION. WE SEE LET‘S GO YANKEES CHANTS. THERE WAS AN ACTION-PACKED GAME. THE METS DESPERATELY NEED JUSTIN VERLANDER TO BE JUSTIN VERLANDER AND KIND OF STOP THIS LOSING SLIDE TODAY ON RIGHT NOW. KARL: JAKE BAUERS WILL LEAD THINGS OFF OF THE YANKEES TO BEGIN THE NIGHT. THEY WERE EIGHT GAMES BEHIND TAMPA BAY. FOUR GAMES BEHIND THE ORIOLES. LEMAHIEU, KINER-FALEFA, WHO HAS HIT THE BALL HARD. HE GOT OFF TO A REALLY GOOD START. ANTHONY HALL B IS AT SHORT. STARTING LINEUP FOR AARON BOONE‘S TEAM. THEY DON‘T STRIKEOUT A TON. THEY DON‘T RUN A TON. VERLANDER, THE FASTBALL, LAST NIGHT, MAX SCHERZER HONG A BUNCH OF SLIDERS. VERLANDER NEEDS TO STRIKE GUYS OUT IN THE UPPER PART OF THE ZONE. A QUICK INDICATION OF THIS IS THE FOUL BALLS. WE WILL SEE A LOT OF FOUL BALLS HIT BACK. IF WE SEE THAT, WE KNOW IT IS STARTING TO WORK. SWINGS AND MISSES UP IN THE ZONE BUT EARLY INDICATIONS WILL LET YOU KNOW EXACTLY THE HEATER. KARL: EDUARDO ESCOBAR AT THIRD BASE. LINDOR AT SHORTSTOP. TOMMY PHAM IN LEFT FIELD. BRANDON NIMMO, OFF HIS GLOVE, A PLAY HE ACKNOWLEDGED HE SHOULD HAVE MADE. STARLING MARTE IS IAN WRIGHT. FRANCISCO ALVAREZ BEHIND THE PLATE AS WE GET SET FOR THE SUBWAY SERIES, TAKE TWO. HERE WE GO. THAT FIRST PITCH IS THE FASTBALL THAT IS IN THERE FOR A STRIKE. MILLER IS CALLING BALLS AND STRIKES TONIGHT. HIGH AT 94. YOU SAY GIVE A LITTLE MORE TIME. AFTER A 37 MINUTE RAIN DELAY, HE GOT LOOSE. WHAT IS THE RIGHT AMOUNT OF TIME BEFORE YOU AS A PITCHER KNOW THAT YOU ARE NOW BACK WHERE YOU WANT TO BE? HERE IS THE 1-1. MISSES AWAY. DAVID: HE WAS PLAYING CATCH-UP SINCE SPRING TRAINING WHEN HE HAD THE MAJOR INJURY. AS FAR AS GETTING OUT TO A GOOD START, HE HAS ALWAYS BEEN A GUY WHO HAS EVOLVED OVER HIS CAREER. KIND OF SAVING A LITTLE BIT IN THE HIP POCKET. KARL: THERE IS A GOOD BREAKING PITCH IN THERE. A SLIDER. DAVID: HE MIGHT NEED TO GO A LITTLE HARDER EARLY IN THESE GAMES TO GET ESTABLISHED ON THE FOUR SEAM FASTBALL AND SEND A MESSAGE THAT HE IS BACK. KARL: THERE IS THIS FOUL BALL. DAVID: THAT WAS -- EDUARDO: THAT WAS OFF THE SLIDER BUT STILL SHOWED THE ACTION. BEFORE THE GAME, I SAID 6.5 AROUND THIS AREA. THAT IS ONE. WE ARE SIX PITCHES IN. KARL: TOMMY JOHN SURGERY FOR VERLANDER A COUPLE YEARS AGO. THE INCREDIBLE CY YOUNG SEASON. 18-4 LAST YEAR. ANOTHER ONE FOULED OFF. 95. EIGHT YEARS OLDER THAN GERRIT COLE. HUGE EXPECTATIONS ON THE GUY WHO HAD A LEAD LAST NIGHT, SHIRTS AND VERLANDER FROM THE METS, THEIR FANS, FRONT OFFICE OF THE OWNER. 2-2. THREE CONSECUTIVE FOUL BALLS. DAVID: ROLANDA FEELS HE CAN PITCH FOR SEVERAL MORE YEARS. HE WANTS TO GET TO 4000 STRIKEOUTS. HE IS ALREADY IN COOPERSTOWN. NO DOUBT ABOUT THAT. THIS GUY IS NOT SATISFIED. HE WILL LOOK AT THIS AS A BLIP ON THE SCREEN IN THESE FIRST EIGHT OR NINE STARTS OF 2023. EDUARDO: GIANCARLO STANTON. YOU HAVE TO LOVE THE FACT THAT YOU ARE ON DECK AND SEEING ALL THESE PITCHES ALREADY. FASTBALL SLIDER AND THEN THE CURVEBALL. KARL: THIS ONE IS PUT IN PLAY. INTO THE CORNER HE GOES. VERLANDER GIVES IT A LOOK AND PHAM MAKES THE PLAY IN FOUL TERRITORY. IT RESULTS IN AND OUT. EDUARDO: NOT A LOT OF FOUL TERRITORY THERE. YOU GET THE WALL AND YOU HAVE TO FOCUS ON THE WALL. TOOK A PEEK AT IT EARLY. HE HAD TO BRACE HIMSELF. KARL: THE CITY FEEL DESTROYER, GIANCARLO STANTON, 24 HOME RUNS AT THIS BALLPARK. ROLANDA JUMPS AHEAD FOR THE FASTBALL AT 94. DAVID: JUSTIN VERLANDER WITH A BIG BREATH OF RELIEF THERE. A LONG FIRST AT-BAT PAINTS THAT PITCH TO GIANCARLO STANTON. KARL: 38 CAREER HOME RUNS AGAINST THE METS, MOST AGAINST ANY OPPONENT. THERE ARE THE NUMBERS BACKED UP BY HARPER AND FREDDIE FREEMAN. MORE OF A HIGH FLY HOMER INSTEAD OF ONE OF THOSE MISSILES THAT WE HAVE SEEN HIM GET. THIS ONE RIGHT OFF THE SCREEN. EDUARDO: THIS IS WHERE JUST IN, FOULED OFF THE 1-2. HOT PART OF THE ZONE USUALLY ELEVATES. A LITTLE BIT MORE NOW. TRY AND GET THAT OUT OF THE ZONE. CLIMBING THE LADDER. DAVID: WE TEND TO THINK ABOUT COMMAND AS BEING EAST AND WEST. INSIDE CORNER, OUTSIDE CORNER. COMMAND OVER THE TOP LINE. BIG DEAL FOR JUSTIN VERLANDER. IN RIGHT ON THE LINE OR JUST ABOVE IT. EDUARDO: HOW ABOUT THE 21-YEAR-OLD FRANCISCO ALVAREZ? THROW THIS ONE IN THE DIRT. THIS IS WHERE I WANT IT. I WILL BLOCK IT. A LOT OF ENERGY BEHIND THE PLATE THERE. KARL: 15TH PITCH FOR VERLANDER. GOOD TAKE FROM STANTON. THE COUNT GOES FULL. 3-2. DAVID: THERE HAS TO BE A MESSAGE TO THE PITCHER WHEN THE BALL IS FOULED OFF. MORE SWINGS AND PITCHES FOR VERLANDER. STRIKEOUT RAIN IS -- STRIKEOUT RATE IS DOWN. KARL: HE WENT TO FIRST BASE. ROBERTO ORTIZ. STANTON STRIKES OUT. DAVID: DOUBLED UP. GOT STANTON ON THE SECOND ONE. KARL: HERE COMES JOSH JOHNSON THE THIRD BASEMAN CAME ON -- JOSH JOHNSON, AND THE THIRD-BASE MONKEY MAN CAME IN AS A HITTER. CALLED STRIKE. DEFENSE, MCNEIL SHADED UP. THIS NON-SHIFT WORLD. IT IS 1-1. FIVE HOMERS, 37 R.B.I.‘S. FIVE HOMERS COME IN 14 GAMES. LOLLIPOP CURVEBALL AND 79 MILES PER HOUR. HIGH HEAT HERE. DAVID: HE CAN PITCH BACKWARDS, YES. THE SLIDER HAS LOOKED VERY SHARP. TOOK ANOTHER SHOT THERE WITH IT. THE IDEA OF PITCHING BACKWARDS IS THROWING BREAKING BALLS EARLY IN THE COUNT AND THEN FINISHING WITH THAT HIGH FASTBALL. KARL: THE BREAKING PITCH. ANOTHER ONE IN THE DIRT. EDUARDO: INTERESTING, SO FAR. TWO CURVEBALLS. THAT LAST ONE IS THE SLIDER RIGHT THERE. FOURTH SLIDER IS ONE CURVEBALL. NOTHING STRAIGHT. THIS IS THE TIME YOU ELEVATE. KARL: SEVEN FOUL BALLS THIS INNING. ON A FAIRLY COMFORTABLE NIGHT, VERLANDER IN THIS FIRST INNING IS WORKING UP A SWEAT, 23RD PITCH. DONALDSON STRIKES OUT. VERLANDER‘S SECOND STRIKEOUT OF THE INNING. IT CAME ON A FOUR SEAM FASTBALL THAT WAS 95.5 MILES PER HOUR. HE WORKED HARD BUT THE METS DID NOTKARL: HERE IS GERRIT COLE. HE WILL TAKE THE MOUND FOR THE YANKEES WITH A 2.4 E.R.A. -- 2.84 E.R.A. THE LONG BALL HUNTING HIM A LITTLE BIT. DAVID: HE CAME BACK DOWN-TO-EARTH, A REGRESSION TO THE MEAN. A CAREER-HIGH LAST YEAR. HE‘S THE TYPE OF PITCHER THAT CHALLENGES A LOT OF HITTERS AS HE GETS A LOT OF THE PLATE AND HE WILL BE PRONE TO GIVING UP SOME HOMERS HERE WERE THERE. THE QUESTION IS WHETHER THEY ARE SOLO SHOTS ARE NOT. -- OR NOT. KARL: ALVAREZ, BEATY, PHAM, ESCOBAR, VIENTOS WILL SET THE DEFENSE. DOES NOT SWING AT THE FIRST ONE. DONALDSON IS AT THIRD. DJ LEMAHIEU MOVES TO SECOND TONIGHT AND RIZZO‘S AT FIRST. KENNETH LEFT THE INCENTIVE. BOWERS, LEFT TO RIGHT. JOSÉ TREVINO BEHIND THE PLATE. ANOTHER ONE AT 95. VERLANDER WORKED HARD. 23 PITCHES, 15 STRIKES. THE FIFTH MOST AGAINST ROLANDA AND THE MOST IN THE FIRST INNING. NIMMO FOULS IT BACK. 27 R.B.I.‘S. THREE STOLEN BASES FOR THE LEADOFF HITTER. HOME RUN LAST NIGHT, IF CAREER LEADOFF HOMER. HE FINDS HIMSELF IN A FULL COUNT SITUATION. EDUARDO: BOTH LEADOFF HITTERS ARE DOING EXACTLY WHAT THEY ARE SUPPOSED TO DO. LONG AT-BATS. SO FAR, BRANDON NIMMO HAS BEEN ABLE TO REPLICATE EXACTLY WHAT JAKE BAUERS WAS DOING IN THAT FIRST AT-BAT OF THE GAME. KARL: THAT IS GOING TO BE A SOUVENIR, SUBWAY SERIES SOUVENIR. 7-1 ON THE YEAR. THIS IS HIS 15TH START OF THE SEASON. TWO RUNS OR FEWER IN 11 OF THE GAMES HE STARTED. THE YANKEES ARE VERY SUCCESSFUL WHEN HE STARTS. 11-3 IN THE 14 GAMES. DAVID: YANKEES BULLPEN IS A LITTLE THIN TONIGHT AFTER BEING EXTENDED PRETTY HARD LAST NIGHT IN RECENT GAMES AS WELL AND THE METS ARE A PITCHER SHORT BECAUSE OF THE SUSPENSION. KARL: SMITH CAUGHT WITH STICKY SUBSTANCE AND AS A RESULT, 10 GAME SUSPENSION. NIMMO IS GONE. 98. A COUPLE UP THE VELOCITY. THAT IS IN THERE. DAVID: LIFE AND COMMAND. GREAT SHOT OF HOW EFFICIENT THAT BACKSPIN WAS ON THE PITCH. NOT ONLY THE SPIN AND THE VELOCITY BUT THE LOCATION RIGHT AT THE TOP OF THE LINE. HITTING NIMMO UNDERNEATH THE PITCH. KARL: STARLING MARTE, NEXT UP. ANOTHER ONE AT 96. AS A HITTER, YOU START TO SEE 95, 95, 96, AND THEN 98 SHOWS UP. EDUARDO: THAT IS WHY YOU KNOW YOU ARE IN TROUBLE, ESPECIALLY UP IN THE ZONE. THE VELOCITY AND THE DEPTH. BETTER THAN EXPECTED. YOU MENTIONED IT EARLIER. HE HAS A BIG ZONE AMONGST THE BIGGEST IN THE LEAD. KARL: 0-2, MARTE JAMMED ON THAT ONE. AFTER THAT 98, SEEMED TO FALL DEEPLY IN LOVE WITH THE FOUR SEAM FASTBALL. STATCAST, POWERED BY GOOGLE CLOUD. AS FAR AS EFFECTIVE PICTURES GO, HIS FOUR SEAMER IS RIGHT THERE ALONG WITH MORTON‘S CURVEBALL. THAT IS ALSO ON THE LIST. DAVID: A THROWBACK IN AN ERA WHERE PITCHERS ARE THROWING HARDER THAN EVER BEFORE AND THEY ARE THROWING LESS FASTBALLS COLLECTIVELY. HARD TO FIGURE OUT. COULD HAVE PITCHED 20 OR 30 YEARS AGO. KARL: THROWING 97. YOU HAVE THROWN NINE STRAIGHT STRIKES. TRYING TO GO HERE IN THE FIRST. 89 MILE PER HOUR SLIDER AND A GOOD HALF INNING FROM GERRIT COLE. DAVID: A REALLY GOOD LASER -- RAZOR BLADE SLIDER. FINISHES STRONG. KARL: ROLANDA STARTED IT AND ENDED UP GETTING COUPLE OF PUNCHES AND THEN IT WAS GERRIT COLE. ROCK SOLID. HE PICKS UP TWO STRIKEOUTS IN THE FIRST. WE ARE UNDERWAY. SUBWAY SERIES, SUPER PITCHERS ON THE MOUND.KARL: ANTHONY RIZZO WILL LEAD OFF THE SECOND INNING. ISIAH KINER-FALEFA HAS HIT THE BALL A LOT HARDER THIS YEAR AND WILL BAT THIRD AND VERLANDER BACK ON THE BUMP AFTER HIS 23 PITCHES IN THE FIRST. RIZZO WATCHED THAT ONE GO AT 92 MILES PER HOUR. FOUR FIRST PITCH STRIKES, FIRST FOUR HE HAS FACED. 0-24 SKID LAST NIGHT. 2-34 SINCE HIS NECK INJURY. A LOT OF FOLKS MAKE THE CORRELATION WITH JUDGE. HE HAS ALSO STRUGGLED. THEY LOOKED AT HIM AND LEMAHIEU TO BE THE GUYS TO CARRY THE TEAM WITHOUT AARON JUDGE. EDUARDO: YESTERDAY, THEY DID. THEY TOOK THE FIELD BY ANTHONY RIZZO. HOME RUN BY LEMAHIEU. KARL: SWING VERLANDER BEHIND 3-1 TO RIZZO. DAVID: IT‘S CLEAR THAT REMAINDER IS PITCHING OFF OF HIS BREAKING BALL TONIGHT. 2-1 SLIDER RIGHT THERE. KARL: RIZZO FRUSTRATED WITH THE STRIKE CALL. HE CALLS THE TIME. EDUARDO: HE WAS 94, 95 AND THE FIRST INNING. TWO FASTBALLS. ANOTHER ONE AT 92. KARL: NIMMO CALLS OFF MARTE AND HE IS THERE TO MAKE THE PLAY. DAVID: A SUBJECT OF CONVERSATION. MUCH HAS BEEN INVESTED IN A PITCHERS. SURE IS A, 43. ROLANDA, THE SAME. THEY ARE WAITING TO GET PRODUCTION FROM CARRASCO. JOSÉ QUINTANA HAD A REHAB ASSIGNMENT AND STARTED YESTERDAY. BUCK SHOWALTER INCOME -- AND COMPANY ARE ENCOURAGED BY THAT AND HOPING TO GET HIM BACK. A STARTERS E.R.A. OF OVER 5.00. EDUARDO: THAT HAS -- DAVID: THAT HAS GOT TO CHANGE FOR THEM TO GET BACK IN IT AND PUT TOGETHER A SUSTAINED STREAK. KARL: LEMAHIEU WITH SEVEN HOMERS THIS SEASON AND THAT ONE IS AT 94 MILES PER HOUR. INTERESTING EVEN THE AGE THAT WILL BECOME A TOPIC OF CONVERSATION WITH THE PITCH CLOCK. AND YOUR ABILITY TO WITHSTAND LONG INNINGS, ESPECIALLY AS YOU GET INTO THE HEAT OF THE SUMMER. LEMAHIEU BANGS THAT ONE IN THE GROUND. DAVID: IN WATCHING RIZZO CALLED TIME OUT, YOU WONDER, DID HE DO THE PITCHER A FAVOR? HITTERS ARE IN THEIR OWN MINDSET AND WORRIED ABOUT THEIR OWN SORT OF APPROACH. THERE‘S STILL ADJUSTMENT GOING ON WITH PITCHERS AND VETERANS. GIVE YOURSELF A LITTLE EXTRA TIME. THERE SHOULD BE NO MOUND VISITS LEFT ON THE SCOREBOARD. FIVE PER GAME. TAKE A BREAK HERE OR THERE. KARL: STRIKE ONE. 92 MILES PER HOUR. TOP OF THE ZONE TO KINER-FALEFA WHO IS PLAYING CENTER FIELD. THREE HOMERS, 15 R.B.I.‘S. THREE HOMERS IN HIS LAST 13 GAMES. JUST DID NOT BEND LOW ENOUGH. DAVID: LOOKS LIKE HE‘S SWINGING HARD. LOOKS LIKE HE‘S MANY MORE SWEET SPOTS AND BARRELS. LETTING IT GO A LITTLE MORE THIS YEAR. TRYING TO DRIVE THE BASEBALL. KARL: YOU CAN SEE IT THROUGH THE EYES OF THE UMPIRE, BILL MILLER. DAVID: 10 OF 11 TALKED ABOUT LAST ARE PLAYING SHORTSTOP. HE THOUGHT IT WAS MORE IMPORTANT TO MAKE CONTACT. TRYING TO HIT FOR A LITTLE MORE POWER. KARL: HE CHASED AND VERLANDER, GOOD INNING. HE GETS RIZZO AND THE MAYHEW ON A GROUNDER AND KINER-FALEFA TO STRIKEOUT. HE HAS THREE STRIKEOUTS THROUGH TWO AND HE HAS FACED SIX.KEVIN: KEVIN CONNORS IN STUDIO. WE SAW MCCUTCHEN GET HIS 200 CAREER HIT AGAINST THE METS. TONIGHT, HE TAKES DREW SMYLY DEEP. CARLOS SANTANA HAS ADDED A SHOT. IT IS 3-0. KARL: THEY ARE RED HOT. BRYAN REYNOLDS HAD A HIT IN THE FIRST INNING. SOMETHING COOKING IN A VARIETY OF CITIES WHERE THERE HAS NOT BEEN A LOT ON THE STOVE. ARLINGTON WITH THE WAY THE RANGERS ARE PLAYING. ARIZONA, THE DIAMONDBACKS HAVE BEEN OUTSTANDING. UPDATES FROM K.C. ALL NIGHT LONG. GIANTS CREEPING AND HANGING, TOO. YOU ARE ABSOLUTELY RIGHT ABOUT THAT. EDUARDO: HOW GOOD HAS CORBIN CARROLL BEEN FOR ARIZONA? KARL: HE HAS BEEN GREAT. VERY EXCITING YOUNG PLAYERS IN THE GAME TODAY. LINDOR SENDS THAT TO THE SEATS. EDUARDO: THAT MAN RIGHT THERE GOT A HAIRCUT CALLED THE EDGAR. CHECK THAT OUT. HE HAS THE TWO LINES. TIED UP TOP. SOMETHING HAS TO GIVE. HE‘S HOPING IT WILL HOLD HIM DOWN. DAVID: IS EDGAR SOMEBODY WE SHOULD KNOW? EDUARDO: NO, IT IS CALLED THE EDGAR, THE HAIRCUT. CLASSIC FADE. KARL: RIZZO, SMOOTH. IT IS A FOOT RACE. LINDOR WON IT. ROBERTO ORTIZ. HE HAD TO GET ON THAT GIDDYUP BECAUSE LINDOR SENSED I GOT A HIT HERE. EDUARDO: REALLY GOT HIM. DAVID: GOOD SPEED BY ANTHONY RIZZO TO GET IT TO HIM THAT SOON SO HE COULD FIND THE BACK QUICKER. MULTITASKING OVER THERE AND YOU CANNOT GET THE THROW QUICK ENOUGH. EDUARDO: HUSTLE DOWN TO GET BACK ON THE MOUND. KARL: AS A RESULT, HE SWAPPED OUT OF BASEBALL. HE THROWS ONE BY FRANCISCO ALVAREZ. DAVID: MARK CANHA PLAYED FIRST BASE AND HE DID A GOOD JOB OF GETTING THE BALL AND GETTING RID OF IT. RIZZO IS SO COMFORTABLE AND NONCHALANT IN THE WAY HE MAKES THOSE PLAYS. HE ALMOST LULLS YOU TO SLEEP. KARL: 0-2 TO ALVAREZ. 12 HOMERS. 20 FUN IF -- 25 RUNS BATTED IN. PICKED UP HIS THIRD STRIKEOUT. EDUARDO: HE WENT -- THAT WAS ON AN ELEVATED FASTBALL. FRANCISCO ALVAREZ. YOU CANNOT PAINT IT ALL OVER THE QUADRANT. AWAY THIS TIME UP. HARD TO LET THAT ONE GO BY, TOO. HE WENT THERE. PUERTO RICO. KARL: I HEAR WHAT HE SAID. EDUARDO: I LIKE THAT. YADIER MOLINA WITH THE BASKETBALL TEAM. KARL: HE MENTALLY THINKS NOBODY IS GETTING THE FASTBALL. DAVID: HE‘S POURING THE FOUR-SEAMER IN THERE. TREMENDOUS CARRY. KARL: DOWN TO BEATY. MIKE VERLANDER, EFFECTIVE STARTING THIS GAME. CHASING STRIKE ONE. SIX ASSISTS ON FIRST PITCH STRIKES, LOOKING FOR STRIKEOUTS. A COUPLE OF HITS YESTERDAY FOR BEATY. SPOILS THAT ONE. THE COACH OUT THERE WANTS TO PLAY THE YOUNG GUYS, GET VIENTOS IN THE LINEUP. MARISE YOU‘RE DOWN IN THE MINORS. DAVID: THERE IS A BIG ADJUSTMENT PERIOD THAT THESE GUYS HAVE TO MAKE. EVERY NIGHT, YOU‘RE GETTING GOOD PITCHERS. KARL: JUST GOT GREAT VELOCITY AND THAT IS A BIG ADJUSTMENT. DAVID: GREAT POINT BEFORE THE GAME AS WELL AS. THE PROSPECTS ARE THERE. THE GUYS ARE HANGING ON AND RECYCLED A LITTLE BIT. NIGHT IN AN NIGHT OUT. THERE IS BIG DIFFERENCE BETWEEN MAJOR LEAGUE PITCHING AND TRIPLE-A PITCHING. KARL: FIVE STARTERS IN THE MAJORS IS LIKE, REALLY? MCKINNEY DID NOT HAVE TO MOVE MUCH. SIX UP AND SIX DOWN. ALRIGHT. THE CY YOUNG GUYS ARE PITCHING LIKE THAT TO START.KARL: HERE WE GO. THAT GAME IS NEXT. IT FEELS OLD-SCHOOL, WEDNESDAY NIGHT DOUBLEHEADER ON ESPN. TIM ANDERSON GETTING SET. WHITE SOX DEAL WITH CLAYTON KERSHAW AND THE DODGERS AT 10:00 EASTERN TIME, ESPN2. THE GREAT HIM. GONZALEZ ON THE TELECAST AS WELL AS. YOU CAN WATCH BASEBALL LIVE OR ON-DEMAND, SAVE 50% FOR FATHER‘S DAY THROUGH JUNE 18. LACK OUT AND OTHER RESTRICTIONS APPLY. THIS ONE TRIP TO RIGHT CENTER. THAT ONE WILL BOUNCE OVER THE WALL. BILLY MCKINNEY WILL HAVE HIMSELF A LEADOFF DOUBLE TO START THE INNING. EDUARDO: FIRST PITCH HE SEES FROM JUSTIN VERLANDER, FASTBALL RIGHT DOWN THE MIDDLE. BARRELS INTO THE GAP. GIVEN UP BY A JUSTIN VERLANDER IN THIS GAME. FIRST BASE RUNNER TO REACH SECOND VERSUS JUSTIN. KARL: AND THE FIRST YANKEE TO SWING AT A FIRST PITCH AGAINST VERLANDER. MAYBE A CONVERSATION. BOY, DON‘T BE AFRAID. HE HAS NOW HIT SAFELY IN EACH OF HIS SEVEN GAMES. JOSÉ TREVINO, NEXT. MCKINNEY RETREATS QUICKLY. LINDOR ON ONE PITCH. TRIVINO IS OUT. EDUARDO: HE HAS TO MOVE THAT RUNNER OVER ONE WAY OR ANOTHER. NEW SCHOOL BASEBALL OR OLD-SCHOOL BASEBALL, IF YOU ARE THE BOTTOM OF THE ORDER, YOU TRY AND CREATE MOMENTUM. GET THAT FIRST DOUBLE. YOU ARE GOING TO HAVE A SWING LIKE THAT. TOWARDS THE RIGHT SIDE. GOOD JOB BY GOING WITH THE SLIDER. KARL: SHORTSTOP, ANTHONY VOLPE. IT IS 0-1. HEADLINES IN NEW YORK. CONSULTATION WITH HIS MINOR LEAGUE TEAMMATE, AUSTIN WELLS. JUST TWEAKING SOMETHING. LOOKING BACK AT SOME VIDEO FOR THE MINOR LEAGUES. EDUARDO: I HEARD THE CHICKEN PARMESAN WAS GOOD. KARL: THAT IS INSIDE. EDUARDO: NOT ONLY DID HE CLOSE IT, HE ALSO GOT CLOSER TO THE PLATE. IT‘S REALLY INTERESTING BECAUSE THE PICTURES HE STRUGGLED ON THIS YEAR HAS THE PITCHES IN. UP AND DOWN. HE HAS BEEN VERY SUCCESSFUL ON PITCHES AWAY. KARL: HOLD TO BE -- HOLTBY HAS NINE HOME RUNS. LAYING ON HIS SHOULDER TO START. A LOT CLOSER TO THE PLATE. NIMMO GOING OVER, NOW GOING BACK, MAKES THE PLAY. HE WAS NOT IN GOOD POSITION TO THROW THE BALL IN. HE MAKES AN EASY JAUNT TO THIRD. EDUARDO: THAT IS WHAT I TALKED ABOUT WITH THE RUNNER AT SECOND BASE, AND NO OUT. MOST LIKELY AGAINST GERRIT COLE ON THE OPPOSING SIDE OF IT. HE FORCED SHOWALTER TO BRING THE INFIELD IN. THAT WOULD HAVE BEEN A SAC FLY. RUNNER AT THIRD AND TWO. KARL: IT WAS A PAIN FOR A LAND TIME. GETS THE INSIDE PITCH AND DOESN‘T. NINE PITCH AT-BAT FOR BAUERS TO LEAD THE GAME OFF. JUSTIN VERLANDER HAS ALREADY THROWN 43 PITCHES. SEVENTH ROUND PICK OF THE PADRES BACK IN 2013. DAVID: TALKING TO AARON BOONE ABOUT JAKE BAUERS. THEY REALLY LIKE HIS SWING. THEY THINK THERE IS A PLACE FOR HIM EVEN WHEN AARON JUDGE COMES BACK AND HE FACTORED INTO THE DECISION TO RELEASE AARON HICKS AS WELL AS. KARL: 1-2. THAT‘S A LITTLE HIGH. ISN‘T IT AMAZING? DRAFTED IN 13 OF THE PADRES -- UP AND DOWN AND ALL OF A SUDDEN, HERE YOU ARE WITH AN OPPORTUNITY FOR THE YANKEES AND HE CAN JUST TAKE ADVANTAGE. FEELS LIKE DOING THE SAME THING. A GROUND FROM VERLANDER AND IT WAS A LITTLE HARDER AT 96 MILES PER HOUR. DAVID: WE MENTIONED IT LAST WEEKEND IN L.A. ABOUT THE YANKEES GETTING SO MUCH LEVERAGE. THE CALHOUN ALSO IN THAT CATEGORY AS WELL. KARL: BIG GO-AHEAD HIT LAST NIGHT IN THIS ONE. HE LAYS OFF THAT. VERLANDER WAS LOOKING FOR A CALL. BOWERS, CALHOUN, MCKINNEY. NO JUDGE AND NO TIMETABLE AT ALL. AARON BOONE HAS ZERO INTEL OR INFORMATION ON THAT. THIS ONE IS TOWARDS THE SEATS, GIVING A LOOK AT ESCOBAR. IT GETS OVER THE FENCE AND THE WALL. EDUARDO: A BREAKING PITCH, ANOTHER CURVEBALL. HE HAS NOT GONE WITH THE FASTBALL IN CANS LIKE THIS. HE HAS NOT TRUSTED THE FASTBALL. AGAINST THE FASTBALL IN THE FIRST PITCH. DAVID: HOLD TO BE -- HOLTBY HIT A FASTBALL, TOO. IT‘S HARD TO PLAY THE LOW GAME WITHOUT THE HIGH GAME. FASTBALL UP. SLIDER DOWN. KARL: ANOTHER GOOD AT-BAT FROM BOWERS. HERE IS THE EIGHTH FOUL BALL. EDUARDO: THIS WILL BE THE 18TH PITCH THAT BOWERS WILL SEE THIS INNING. FOULS OFF PITCHES. FOUR FOUL BALLS IN THE FIRST AT-BAT. FOUR IN THIS ONE. CRUSHING THE BUDGET. ON THE WAY TO CRUSHING IT. KARL: BY THE END OF THE NIGHT, WE MAY HAVE IT. DAVID: MY BROADCAST PARTNER CALLS THAT PITCH THE CVS PHARMACY. EDUARDO: [LAUGHTER] DAVID: DO YOU WANT A RECEIPT? THAT IS YOUR RECEIPT. KARL: SKY HIGH. THIS ONE IN FAIR TERRITORY. MARTE MAY NOT SEE IT AND THAT‘S OK BECAUSE IT WAS OUT THERE TO GET IT. MARTE DID NOT SEE WHERE THAT BALL WENT. COLLEGE WORLD SERIES SUPER REGIONAL.GEORGE SPRINGER GOING DEEP WITH A SOLO HOME RUN. JOSE BERRIOS AND WHAT HAS BEEN A NICE BOUNCEBACK YEAR. BOTTOM OF THE SIXTH. KARL: TAKE A LOOK AT THE TOP SEVEN PAYROLLS IN BASEBALL. THE METS WAY OUT IN FRONT. THE YANKEES ARE A WILD-CARD. NOBODY IS IN FIRST PLACE. THE DODGERS ARE A WILD-CARD BECAUSE ARIZONA IS PLAYING SO WELL. HOW ABOUT THE WAY THE ANGELS ARE PLAYING? THEY ARE COMING QUICKLY. DAVID: INTERESTING YEAR SO FAR WITH THE HIGH PAYROLL AND THOSE TEAMS THAT ARE MIDDLE TO BOTTOM AND THE SUCCESS THEY ARE HAVING. KARL: THE CARDINALS GAVE UP FIVE RUNS LATE AND LOST AGAIN. RIGHT BACK UP THE MIDDLE. FIELDED BY LEMAHIEU. YOU CAN PUT HIM ANYWHERE ON THE INFIELD. HE WILL MAKE THE PLAY. HERE COMES EDUARDO ESCOBAR. 7-UP, SEVEN DOWN SO FAR FOR GERRIT COLE. EDUARDO: HE HAS BEEN DOING IT WITH THE FASTBALL. IT HAS WORKED FOR HIM. KARL: ESCOBAR HAS BEEN GOOD WHEN HE HAS PLAYED. THAT ONE WAS A LITTLE TOO HIGH. THREE HOME RUNS IN HIS LAST 21 GAMES. A HANDFUL OF DOUBLES. DAVID: FRAMING THAT PITCH AND BRINGING IT DOWN THE ZONE. KARL: BIG SWING AND A MISS. 96. DAVID: YOU DO NOT THINK THERE IS FLOPPING IN BASEBALL, CATCHER FRAMING IS FLOPPING. WATCH HIS MITT. KARL: NO ONE HAS MADE ANY CONTACT WITH HIS FASTBALL. HE IS THROWING UNTIL SOMEONE DOES. DAVID: CONFIDENCE AND CONVICTION. THE CARRY ON IT IS DIFFERENT. THE WAY IT JUMPS. VELOCITY CAN BE MISLEADING AT TIMES. THAT IS WHY WE KEEP TRACK OF EVERYTHING ELSE. KARL: HE IS PITCHING AS WELL AS HE HAS ALL NIGHT. EDUARDO: THIS IS A TOUGH START. IN ORDER FOR HIM TO BE ABLE TO HIT GERRIT COLE, HE HAS TO FORCE HIM TO COME DOWN. HE WAS NOT ABLE TO DO IT IN THAT SWING. NOW HE HAS TO PLAY DEFENSE WITH THE BAT. DAVID: IT IS VERY OLD-SCHOOL STYLISTICALLY. KARL: HE MISSES BADLY. GERRIT COLE IS DEALING WITH AN UMPIRE WHO HAS A REPUTATION FOR A PITCHER FRIENDLY STRIKE ZONE. SLOWED CHOPPER. THAT WILL BE A TOUGH ONE. NOT A PROBLEM FOR GERRIT COLE. NO PROBLEMS SO FAR. NINE UP, NINE DOWN.KARL: THE RED SOX TRYING TO DEFEND FENWAY AGAINST THE YANKEES. WE WILL HAVE THE CALL. STANTON SWINGS AT THE FIRST ONE. THIS ONE WILL GET INTO THE SEATS. I WANT TO THANK THE 2 MILLION VIEWERS WHO TUNED IN. HOPING FOR A SIMILAR NUMBER, MAYBE A LITTLE HIGHER. FATHER‘S DAY WEEKEND AT FENWAY PARK. STANTON RECOGNIZED THAT PITCH AND FOULS IT STRAIGHT BACK. EDUARDO: SHE HAS BEEN WAITING FOR THIS. KARL: YOU ARE RIGHT. SUNDAY NIGHT IS NOT ENOUGH. SHE WOULD JUST AS SOON DO IT EVERY NIGHT. ALL BASEBALL, ALL OF THE TIME. A GOOD LOOK AT THE FRAMING OF ALVAREZ. RIGHT NOW HE IS TOP FIVE IN FRAMING AND BLOCKING. HE GOT STANTON. A HIGH SLIDER. DAVID: IT HAS BEEN THE FEATURE PITCH ALL NIGHT. WE SAW MORE OF THIS THAN ANY OTHER PITCH. HE GOT STANTON TO MISS IT. EDUARDO: SOMETIMES AS A HITTER YOU SEE IT IN YOU THINK IT WILL BREAK A LITTLE BIT MORE THAN WHAT IT DOES. IT DID NOT. KARL: VERLANDER GETTING A LITTLE FILTHY HERE. THAT WAS A CURVEBALL. EDUARDO: IT HAS BEEN CURVEBALLS AND SLIDERS. KARL: AS A HITTER, YOU SEE FASTBALL UP, IF YOU DO NOT LIKE IT, DO YOU ASSUME IT IS A FASTBALL? EDUARDO: ABSOLUTELY. THAT IS WHY THE CUREVBALL WORKS WELL. KARL: THIS IS A TOUGH ONE. LOOK WHAT I FOUND? VIENTOS SCREWED -- STOOP IT UP OUT OF THE DIRT. EDUARDO: OVER THE TOP. THAT IS WHAT MAKES IT EASIER FOR VIENTOS TO BE ABLE TO GET IT. EASIER FOR A FIRST BASEMAN. BEAUTIFULLY DIGS THIS OUT. KARL: THERE IS A GRACED -- GREAT SECURITY IN A FIRST BASEMAN‘S GLOVE. VERLANDER FALLS BEHIND 2-0. MARK CANHA LAST NIGHT, VIENTOS TONIGHT AT FIRST BASE. WE SAW PETE ALONSO IN THE LOCKER ROOM BEFORE THE GAME. WE HAD A GOOD CONVERSATION WITH HIM. HE SEEMS TO BE GETTING BETTER. NO TIMETABLE. EDUARDO: GOOD PRESENCE OF MIND. DAVID: EVERY OUT AS A HOT COMMODITY FOR JUSTIN VERLANDER. YOU SEE HIS REACTION RIGHT THERE. KARL: DID IN THE AMOUNT OF PICTURES USED LAST NIGHT AND IN SOME CASES THEY ARE BEING USED THREE TIMES IN FOUR NIGHTS, THE STARTERS NEED TO GO DEEP. DAVID: HE PULLED A DIRTY TRICK ON ME. HE PUSHED MY BUTTON. HE CUT ME OFF. THAT IS A DIRTY TRICK. HE MUTED ME. KARL: LEFT FIELD. PHAM TO HIS RIGHT. HE IS THERE TO MAKE THE PLAY. VERLANDER HAS GOTTEN THROUGH FOUR.KEVIN: JOSE BERRIOS WORKING ON A NO-HITTER. SIX INNINGS, FOUR STRIKEOUTS, JUST ONE WALK. ADLEY RUTSCHMAN HAS JUST BROKEN IT UP. THE NO-HITTER IS OVER. KARL: THE LATEST UPDATE. ADLEY RUTSCHMAN DELIVERS THE HIT THAT INS -- ENDS THE NO-HIT NIGHT. GERRIT COLE, 97 ON THAT FASTBALL. BOTH OF THESE PITCHERS HAVE A VERY HIGH PERCENTAGE OF STRIKES. COLE STRUCK OUT NIMMO HIS FIRST TIME UP. HE MISSES IN THE DIRT. DAVID: WE HAVE OUR PITCHER‘S DUEL SO FAR. KARL: BUT DIFFERENT STYLES. DAVID: VERLANDER REALLY ESTABLISHING THE SLIDER. YOU HAVE TO GIVE THEM A LOT OF CREDIT. HE IS GOING ABOUT IT IN A DIFFERENT WAY. KARL: YOU MENTIONED THE FACT THAT COLE HAD NOT GIVEN UP ANY HOME RUNS IN HIS FIRST SEVEN STARTS. IN A GAME LIKE THIS, ONE SWING CAN CHANGE EVERYTHING. NIMMO WENT YARD LAST NIGHT. EDUARDO: ALMOST GOT HIT BY A PITCH ON THAT ELBOW PAD YESTERDAY. NOT AFRAID TO KEEP IT IN THERE. KARL: WE HAD HIM WHERE THE MICROPHONE EARLY THIS SEASON. HE GREW UP IN WYOMING. HE SAID YOU HAVE TO GET THROWN OFF OF AN ANIMAL. THIS ONE SLAPPED INTO LEFT FIELD.GOOD TO KNOW HE IS WITH US ON WEDNESDAYS AS WELL. EDUARDO: THAT GUIDE PARTIES EVERY NIGHT. UP IN THE AIR. KARL: COLE HAS 10 OF THE FIRST 10 AS HE BOUNCES WANT TO STARLING MARTE. NOW THEY ARE TEAMMATES. BILL MILLER SAID HE DID NOT NEED TO GET OUT OF THE WAY. THAT WAS A STRIKE. YOU SEE THE BODY LANGUAGE AND THE HEAD SHAKING FROM MARTE. 1-2. DAVID: SEEING THOSE KIND OF SWINGS OFF OF A FASTBALL. THAT TELLS YOU ALL YOU NEED TO KNOW ABOUT HIS STUFF TONIGHT. 97 MILES PER HOUR. EMERGENCY HACK. KARL: HAPPY TO FOUL IT OFF. RIZZO FIRES A PERFECT THROW. EDUARDO: YOU HAVE TO LOVE THAT IF YOU ARE ANTHONY RIZZO. YOUR PITCHER GOES OVER TO FIRST. THE VETERAN PITCHER GETS OVER. DAVID: HE GAVE HIM A HEATER. KARL: YOU SEE THE SMILE ON HIS FACE. EDUARDO: THAT THAT -- BAT WAS SOLID OFF -- SAWED OFF. GOOD ACTION ON THE HEATER. KARL: DONALDSON IS OUT OF ROOM. EDUARDO: HE IS ALREADY CHOKED UP. DAVID: WHERE IS RIZZO GOING? KARL: 0-2. HE HAD A TERRIFIC AT-BAT LAST NIGHT. LEMAHIEU WAS PLAYING THIRD BASE. HE SLAPPED IT DOWN THE THIRD-BASE LINE AND ENDED UP SCORING A COUPLE. SHE IS GONE. COLE IS ROLLING. MCNEIL PUNCHED OUT. THIS IS A PITCHER‘S DUEL. THE KNUCKLE CURVE SHOWS UP TO GET MCNEIL.KARL: THIS IS YOUR NIGHT TO SHINE. VERLANDER AND COLE, FOUR PERFECT INNINGS. A HUGE CROWD ON A SUBWAY SERIES NIGHT AT CITI FIELD. VERLANDER DELIVERS. HE GETS THE CALLED STRIKE ONE. A DOUBLE HAS BEEN THE ONLY HIT OF THE GAME SO FAR. DAVID: VERLANDER HAS A SHARP SLIDER TONIGHT. IT HAS INDUCED SIX SWING IN THIS IS. THERE IS YOUR CONTRASTING STYLES. KARL: ARE WE LOOKING AT WHAT HE MIGHT BE EIGHT YEARS FROM NOW? IS THIS THE EVOLUTION OF WHAT GERRIT COLE MIGHT SOMEDAY BECOME? DAVID: YES. WHEN YOU DON‘T HAVE THE GOOD HIGH FASTBALL, YOU NEED TO SPOT IT MORE EAST AND WEST. LIKE WE JUST SAW. AND YOU NEED TO DELIVER -- DEVELOP YOUR SLIDER. KARL: LINDOR STAYS DOWN. A SHORT HOP THROW. VIENTOS BAILS HIM OUT. KEVIN: THE ANGELS JUST FOUR POINT FIVE GAMES OUT AND TRYING TO SLICE INTO THAT. ANTHONY RENDON INTO NO MAN‘S LAND. IT WILL DROP IN. THE ANGELS LEAD 1-0. KARL: TROUT BEARING DOWN ON THE. THE BALL IS COMING IN. IT‘S THE ANGELS AND PHIL NEVIN WHO WAS WITH AARON BOONE IN NEW YORK FOR SO LONG. DOING A GOOD JOB IN ANAHEIM. ISIAH KINER-FALEFA CHECKS IS SWINGING. NO SWING ACCORDING TO THE FIRST BASEMAN. -- FIRST BASE UMPIRE. EDUARDO: AS SOON AS LINDOR STANDS STRAIGHT UP, HE DID NOT HAVE MUCH ON THE THROW. HE SAID MY BAD ON THAT ONE BUT THANK YOU FOR PICKING ME UP. NICE JOB OVER THERE. MARK CANHA HAS PLAYED A NICE FIRST BASE AS WELL. KARL: GETS THE CALL. DAVID: YOU SEE THE BREAKDOWN. PITCHING OFF OF HIS SLIDER. MORE SLIDERS THAN ANY OTHER PITCH. AND IT IS A GOOD ONE TONIGHT. KARL: HE CHALLENGED KINER-FALEFA. FOUL TIP INTO THE GLOVE OF ALVAREZ. EDUARDO: JUST LETTING US KNOW HE HAS IT IN HIS BACK POCKET WHEN HE NEEDS IT. DAVID: THE BEST ONE HE HAS THROWN TONIGHT. YOU SEE THE LIFE ON THAT PITCH. COMING RIGHT AT YOU. NO DEVIATION. JUST COULD CARRY RIGHT KARL: KARL: THROUGH THE GLOVE. HE HAS RETIRED EIGHT IN A ROW. THIS IS THE GUY DID NOT RETIRE. HE SWINGS AT THE FIRST ONE. THAT IS A CONFIDENT SWING FROM BILLY MCKINNEY. HE HIT NINE HOME RUNS IN THE MINORS. LOCKED HIM UP WITH A VERY GOOD CURVEBALL. DAVID: YOU BRING UP A GOOD POINT. HE WAS NOT ON THE ROSTER. HE REALLY HAD TO HIM REST THE YANKEES. KARL: FIVE PUNCH-OUTS FOUR VERLANDER SO FAR. THAT ONE NEARLY HIT MCKINNEY.THERE HAVE BEEN A NUMBER OF INJURIES OVER THE CAREER OF JUSTIN VERLANDER. TOMMY JOHN A COUPLE OF YEARS AGO. BUT HE IN TERRIFIC SHAPE. GRINDING IT HERE. AT 40 YEARS OLD. DAVID: REALLY IMPRESSED WITH THE ADJUSTMENTS HE HAS MADE TONIGHT. SOME VINTAGE VERLANDER. ESTABLISHING HIS SLIDER AND THROWING IT OFTEN. THAT HAS BEEN THE KEY TO HIS SUCCESS. KARL: TAKE A LOOK AT WHAT JUSTIN VERLANDER HAS BEEN ABLE TO ACCOMPLISH WHEN HE HAS BEEN ON THE MOUND. AS FAR AS CY YOUNG BOATS. AND WHERE HE HAS FINISHED. GERRIT COLE HAS GOTTEN A BUNCH OF VOTES. JUST DOESN‘T HAVE THE AWARD YET. DAVID: IT IS VERY RARE THAT ONE PLAYER IS TRADED IN A TRADE DEADLINE AND A BALANCE IS -- SHIFTS THE BALANCE OF POWER. THAT IS WHAT HAPPENED WITH JUSTIN VERLANDER WHEN HE WAS TRADED FROM THE TIGERS TO THE ASTROS. KARL: THERE YOU GO. HE WILL WALK OFF THE MOUND FEELING VERY GOOD ABOUT HIMSELF. SIX STRIKEOUTS.KARL: DEFINITION OF A PITCHER‘S DUEL, WE HAVE ONE HERE BETWEEN VERLANDER AND COLE. SIX PUNCH-OUTS FOR VERLANDER. COLE WITH FIVE. HE WILL GET LINDOR, ALVAREZ AND BRETT BATY. VERLANDER IS PITCH COUNT IS 84. COLE AND EFFICIENT 57. THE GUARDS -- THE GUYS AVAILABLE TONIGHT ARE ABOUT THE GUYS WHO GOT THEM THE BULLPEN REPUTATION AND CREDIBILITY. LINDOR HITS IT TO RIZZO. COLE COVERS. 96 MILES PER HOUR. WHEN HE FACED ANOTHER GUY WHO HAD SIMILAR CREDIBILITY THAT YOU DID, WHAT IMPACT DID THAT HAVE ON YOU AS YOU GOT INTO THE GAME? DAVID: WHEN THEY ARE THROWING WELL YOU NOTICE. KARL: LINDOR HITS IT HARD TOWARDS THE GAP. KINER-FALEFA GOING BACK. IT‘S OFF THE WALL. LINDOR BREAKS UP COLE‘S PERFECT NIGHT WITH A LEADOFF DOUBLE. EDUARDO: EXIT VELOCITY 105. THIS WAS A BREAKING PITCH 80 MPH, HUNG DOWN THE MIDDLE. TREVINO IS REACHING TOWARDS HIS RIGHT TO GET IT. RIGHT IN LINDOR‘S WHEELHOUSE. HITS IT HARD AND HE NEEDS TO START SWINGING WELL FROM THE LEFT SIDE AND HE DOES JUST THAT. KARL: PASSED BALLS TO ALVAREZ HIS FIRST TIME OUT, HE STRUCK OUT. STARTS HIM UP WITH A BREAKING PITCH, THE SLIDER TO GET AHEAD. BIG SPOT FOR THE ROOKIE CATCHER. PUTS THIS ONE INTO RIGHT, FAIRLY DEEP. BAUERS IS AT THE WALL AND MAKES THE PLAY. NICE RUNNING CATCH BY BAUERS. LINDOR GETS TO THIRD BUT HE WENT A LONG WAY. EDUARDO: TREVINO IN THE THIRD INNING COULDN‘T GET MCKINNEY OVER. WITH NO OUTS. ON THIS ONE YOU SEE HIM TRYING TO GO THE OTHER WAY, TRADING PLACES WITH LINDOR, GETS IT DEEP ENOUGH AND FAR ENOUGH TO MOVE LINDOR OVER TO THIRD. THAT WILL FORCE THE INFIELD TO COME IN,. KARL: AFFECTIONATELY KNOWN AS THE BABY METS, AND THE CHANCE OF -- CHANTS OF BATY. UP ON NATIONALS, JOSÉ ABREU HITTING .3 O4 IN THE MONTH OF JUNE. 12 R.B.I., TIED FOR THE MOST IN THE AMERICAN LEAGUE. FRAMBER VALDEZ, THREE SCORELESS, 2-0 IN THE FOURTH. KARL: HERE WE GO WITH BRETT BATY. ALVAREZ MOVES LINDOR TO THIRD. INFIELD IN ON THE GRASS. BIG SWING AS COLE THREW 98 BY HIM. EDUARDO: THEY HAVE BEEN POUNDING BATY IN DURING THE SUBWAY SERIES. MCKINNEY HAS TO PLAY SHALLOWER IN LEFT FIELD. KARL: 0-2. EDUARDO: GOT TO PROTECT FROM THE JAM SHOT. GERRIT COLE NEEDS TO EXECUTE THE PITCH. IF HE DOESN‘T GET THE SWING AND MISS, IT SHOULDN‘T BE A BARREL SHOT OPPOSITE FIELD. KARL: SLIDER IN THE DIRT. TREVINO HAS BEEN TERRIFIC BLOCKING EVERYTHING BUT BE CAREFUL WITH LINDOR AT THIRD. THE 0-2 GOES RIGHT BY HIM, 98 MILES AN HOUR. HUGE STRIKEOUT FOR THE SECOND OUT OF THE INNING. SIXTH OF THE NIGHT FOR COLE. DAVID: COLE SHOWED WHO IS DRIVING THE BUS. SHAKES OFF TWICE ON AN 0-2 PITCH. THEN THAT ONE SAILED RIGHT ON BY. TREVINO WANTED A SLIDER OR CURVEBALL. COLE SAID NO, I WANT THIS ONE. KARL: NOW TOMMY PHAM, WHO HAS BEEN GOOD FOR THE METS. LOOKS AT 99 RIGHT DOWN BROADWAY. THIS ONE IS RIFLED TO RIGHT FIELD. BAUERS GOING BACK, HE WILL NOT GET IT. TOMMY PHAM DELIVERS A DOUBLE. THAT PLATES LINDOR. IT IS 1-0 METS. EDUARDO: THERE HASN‘T BEEN A FASTBALL TOMMY PHAM HASN‘T LIKED IN HIS ENTIRE BIG-LEAGUE CAREER. OUT OVER THE PLATE, THE REACTION OF GERRIT COLE, HE KNEW IT AS SOON AS HE HIT IT. HE KNEW THAT BAUERS WOULD STRUGGLE TO GET TO THIS ONE. DAVID: TOMMY PHAM CAN HIT THE BALL HARD. KARL: HE HAS BEEN SO GOOD IN A YEAR IN WHICH THE OFFENSE HASN‘T BEEN GREAT. PHAM COMES THROUGH, PICKING UP HIS 23RD R.B.I. A DIFFERENT HITTER THIS YEAR. TREVINO SAW PHAM OFF THE BAG AT SECOND AND CAME UP READY TO THROW DOWN TO VOLPE BUT IT GOT OUT OF HIS GLOVE. EDUARDO: GOOD HARD SECONDARY SLICE. LINDOR TAKING SECOND AND NOW PHAM AT SECOND. KARL: VERLANDER GAVE UP A DOUBLE AND GOT THE NEXT THREE. COLE GAVE UP THE DOUBLE TO LINDOR AND GOT THE NEXT TWO, THEN PHAM GOT HIM. 1-0. HERE IS ESCOBAR. OFF THE PLATE. ONE BALL, ONE STRIKE.DAVID: YOU CAN SEE VOLPE THE SHORTSTOP LISTENING IN HIS EAR FOR THE PITCH SELECTION FROM PITCHCOM, AS WELL. KARL: IN THERE FOR A STRIKE. WATCH BAUERS GOES BACK AND OBVIOUSLY THERE IS THE WALL RIGHT WHERE THE BALL LANDED. THAT IS A HOME RUN NOT PHAM -- THAT PHAM WOUND UP ON SECOND WITH, IN FOUR OTHER BALLPARKS. COLE WILL STRAND THE RUNNER AT SECOND, BUT SOME DAMAGE DONE TONIGHT OFF THE BAT OF LINDOR, WHO RELEASES A HUGE SHOE TODAY AND GOT A CHANCE TO RUN TO SECOND, THEN RUN HOME AFTER PHAM WENT TO RIGHT. COLE IS NOT HAPPY. IT IS 1-0.KARL: NINTH DOUBLE OF THE YEAR FOR TOMMY PHAM PLATES FRANCISCO LINDOR. VERLANDER STARTS THIS HALF INNING OFF, TREVINO, WITH A BREAKING PITCH. THE ONLY GUY WHO HAS A HIT, MCKINNEY WITH A DOUBLE. VERLANDER COMING OFF BACK TO BACK PUNCH-OUTS TO END THE FIFTH INNING. HE HAS A HALF DOZEN OF THOSE, 86 PITCHES. EDUARDO: JOSÉ TREVINO, HOW HAPPY IS HE WITH ORAL ROBERTS AND THE COLLEGE WORLD SERIES? KARL: I TALKED TO HIM ABOUT THAT. AND PETE ALONSO THE FLORIDA SCOUTING REPORT DOWN. FOULED. COLLEGE WORLD SERIES STARTS FRIDAY. EIGHT TEAMS. IN OMAHA, NEBRASKA. BIG-NAME PROGRAMS, YOU MENTIONED ORAL ROBERTS WITH 51 WINS. LSU ACCORDING TO KILEY MCDANIEL‘S HAS MORE PROSPECTS ON THEIR TEAM THEN SEVERAL MAJOR LEAGUE TEAMS AND THEIR FARM SYSTEMS. WHICH SHOULD BE EXCITING. COLLEGE WORLD SERIES STARTS FRIDAY ON ESPN. DAY AND NIGHT GAMES. EDUARDO: BEST SHOW ON TURF. KARL: 2-2. EDUARDO: YOU HAVE NEVER BEEN TO OMAHA? DAVID: I WAS PLAYING MINOR LEAGUE BALL IN OMAHA AND HAD TO LEAVE TOWN DURING THAT TIME. WE HAD TO GO ON A ROAD TRIP TO ACCOMMODATE THE KARL WORLD SERIES -- THE COLLEGE WORLD SERIES. KARL: THAT IS A FAIR BALL FOR TREVINO. CHASED INTO THE CORNER AND TREVINO DOUBLES. THE FOURTH HIT OF THE GAME. TREVINO WITH A LEADOFF DOUBLE. DAVID: ANOTHER CURVEBALL STAYING RIGHT THERE. I THOUGHT VERLANDER THREW A STRIKE WITH ONE OF THOSE TWO PITCHES AGO AND DIDN‘T GET THE CALL. THIS ONE STAYS UP JUST ENOUGH FOR TREVINO TO LAY SIT DOWN THE LINE -- LACE IT DOWN THE LINE. UNLUCKY FOR VERLANDER BUT GOOD JOB BY TREVINO TAKING ADVANTAGE OF THAT LAST ONE. KARL: CRITICAL INNING AFTER YOU GET THE LEAD TO COME OUT AND PUT A ZERO UP. HERE IS VOLPE. EDUARDO: THIS IS VOLPE‘S JOB. HE HAS TO BE ABLE TO MOVE TREVINO TO THIRD BASE. DAVID: HERE IS THE PITCH I WAS TALKING ABOUT. WATCH THE FRAME. LOOKED LIKE ALVAREZ GOT FOOLED. DIDN‘T GET A GOOD FRAME ON THAT. THAT WAS IN THE BOX WITHOUT A DOUBT. SOMETIMES THOSE BIG BREAK AND CURVEBALLS ARE HARD TO CATCH. KARL: 1-1 TO VOLPE. GOOD CURVEBALL, ONE BALL, TWO STRIKES. EDUARDO: THE TWO BREAKING PITCHES, DOES NOT SEEM LIKE THERE IS ANY SENSE TO BEING ABLE TO TRADE PLACES WITH TREVINO THE OTHER WAY. WITH TWO STRIKES YOU HAVE TO PUT THE BALL IN PLAY, FORCE THE DEFENSE. KARL: JUST FOULS IT OFF. WENT BACK TO THE CURVEBALL AGAIN. THAT IS ALL HE HAS SEEN IN THIS AT-BAT. DAVID: VERLANDER IS BREAKING BALL PACKAGES TONIGHT HAVE BEEN OUTSTANDING. SLIDER-CURVEBALL COMBINATION HAS GIVEN METS FANS A ROADMAP TO HOW HE CAN CONTINUE TO BE SUCCESSFUL. AND BE PATIENT WITH THE FASTBALL AS IT IMPROVES. KARL: A COUPLE 95‘S IN THE LAST HALF INNING. EDUARDO: ALVAREZ WAS ASKING FOR THE PITCH UP. KARL: AT HOME YOU DON‘T USUALLY GET THE BOOS WHEN THE HOME PITCHER STEPS OFF BUT THERE ARE YANKEE FANS AT CITI FIELD TONIGHT. 1-2. HIGH. EDUARDO: PERFECT PITCH, ELEVATED .. MESSING WITH THE DEPTH PERCEPTION. GOES RIGHT BACK TO THE CURVEBALL OR THE SLIDER. KARL: THERE IS STIRRING IN THE METS BULLPEN. ANOTHER ONE HIGH AT 96. EDUARDO: EARLY IN THE COUNT, LINDOR WAS PLAYING BEHIND TREVINO BUT NOW, IT IS MCNEIL TRYING TO KEEP IT CLOSE. NO ATTEMPT AT ALL AT HITTING THE BALL THE OTHER WAY. KARL: THERE IT IS. HIT IT THE OTHER WAY. MARTE GOOD ARM, HE WILL RUN ON HIM, HERE IS THE THROW. A LITTLE HIGH AND IT GETS PAST ESCOBAR. EDUARDO: I WAS SURPRISED HE TOOK OFF AND WENT TO THIRD. HE OVERTHROWS BUT WE HAVE SEEN MARTE WITH THE GREAT ARM FROM RIGHT FIELD MAKE SPECTACULAR THROWS. GETS BEHIND HIM, LETS IT GO. TOO MUCH LOFT ON IT. BUT HE WAS GOING RIGHT TO THIRD. WE ARE FORTUNATE THE BALL HIT THE RAILING AND DIDN‘T GO INTO THE DUGOUT. KARL: THE METS BRING THE INFIELD IN. HERE IS BAUERS, LEADOFF HITTER FOR THE YANKEES. HE HAS SEEN A TON OF PITCHES FROM VERLANDER TONIGHT. THIRD TIME BAUERS HAS SEEN VERLANDER. EDUARDO: HE HAS A BACKUP, HAD TO RUN TO GET THE BASEBALL. WITH THE TIMECLOCK IT SPEEDS UP. DAVID: FIVE MOUND VISITS LEFT FOR THE METS. KARL: HE MISSES IN AT 96. JEFF GRAHAM IS GETTING LOOSE IN THE METS BULLPEN. VERLANDER HAS THROWN 100 PITCHES. 2-0 TO BAUERS WHO HAS NOW SEEN 22 PITCHES FROM VERLANDER. FEELS LIKE THAT MEANS A CONVERSATION, WHATEVER THE CONCLUSION OF THIS PLATE APPEARANCE IS. EDUARDO: EXCELLENT ADJUSTMENT BY VOLPE TO DRIVE THE BALL TO RIGHT, FORCING THE METS TO MAKE A PLAY. KARL: 3-0, GREEN LIGHT FOR BAUERS. THREW HIM A SLIDER UP IN THE ZONE. EDUARDO: I LIKE THAT BOONE GAVE HIM THE GREEN LIGHT. ONE OF THE BETTER AT-BATS AGAINST VERLANDER EVEN THOUGH HE DOESN‘T HAVE A HIT TO SHOW FOR IT. DAVID: AND TOOK A SWING AT THE HIGH SLIDER. KARL: TWO FLY OUTS TO RIGHT. NOT A FAST RUNNER AT THIRD. BUT BAUERS DELIVERS THE CLUTCH R.B.I.. HOW GOOD HAS HE BEEN FOR THE YANKEES? IT IS NOW A 1-1 GAME IN THE SIXTH. EDUARDO: I DON‘T KNOW WHY THEY HAVEN‘T GONE OUT TO TALK TO VERLANDER. OVER 100 PITCHES. THIRD TIME BAUERS SEES VERLANDER. YOU WANT TO GIVE HIM A BREATHER AFTER HE BACKS UP THIRD. NOW LINDOR AND ALVAREZ ARE HAVING A CONVERSATION WITH VERLANDER. DAVID: STANTON‘S PRESENCE FORCED VERLANDER TO GO AFTER BAUERS, THE RESPECT FOR STANTON. KARL: WITH ALL THOSE MOUND VISITS AVAILABLE, VERLANDER HAVING TO BACK UP THIRD BASE, LEADOFF DOUBLE BY TREVINO PLATED BY BAUERS. ONE DOWN IN THE SIXTH. STANTON HAS STRUCK OUT TWICE. THE FIRST PITCH IS IN THE DIRT. DIFFERENT CIRCUMSTANCE FROM LAST NIGHT WHEN THE METS GAVE SCHERZER A BIG LEAD. TONIGHT VERLANDER HAD A ONE RUN LEAD AND HE COULDN‘T PROTECT IT FOR HALF AN INNING. THAT ONE IS DOWN. EDUARDO: THE ABILITY OF TREVINO AND VOLPE TO GET ON BASE, TREVINO GETTING ON BASE WITH A TWO STRIKE DOUBLE, THEN VOLPE TWO STRIKE FLY OUT TO RIGHT. ONE OF THE BIG REASONS VERLANDER IS IN THE SITUATION RIGHT NOW. KARL: TENUOUS. 105 PITCHES. STANTON KILLS IT AT CITI FIELD. HE IS LIKELY TO GET A GREEN LIGHT ON 3-0. THAT IS A HARD ONE. ESCOBAR WILL GO TO SECOND. MCNEIL. JEFF MCNEIL ABLE TO TURN THE DOUBLE PLAY TO GET STANTON AND END THE INNING. HOW ABOUT THE SQUIRREL? EDUARDO: THAT BALL WAS SCALDED. JEFF MCNEIL. THAT MAN RIGHT THERE, LOVINGKARL: BACK TO SQUARE ONE. 1-1, BOTTOM SIX, DYNAMITE DEFENSIVE PLAY BY THE METS. THERE IS A ROCKET. THEY ARE HITTING THE BALL HARD. VIENTOS, THAT WAS 114 MPH AND THAT WAS NOTHING COMPARED TO STANTON, 108 L PROPER MUSCLE. -- MILE PER HOUR MISSILE. EDUARDO: GREAT PLAY BY ESCOBAR AND THAT ONE THERE, MAKE DEAL TURNING IT -- MCNEIL, TURNING IT, UNDERSTANDING STANTON CAN‘T BE ALLOWED THE BAG. KARL: THE LEADOFF HITTERS HAVE DONE THEIR JOB TONIGHT. BAUERS DELIVERS THE R.B.I.. NUMERAL HAS SEEN 17 PITCHES -- NIMMO HAS SEEN 17 PITCHES. TREVINO THOUGHT ABOUT THROWING DOWN. DAVID: WITH CATCHERS, WHEN YOU COME UP WITH THAT YOU WILL NOT GET A CALL. THAT ONE, JUST A SLIVER. KARL: TWO BALLS AND A STRIKE. GREAT GAME TONIGHT. 1-1. DOUBLES HAVE BEEN THE STORY. FOUR DOUBLES SO FAR. BAUERS HAD THE SINGLE TO KNOCK IN A RUN. VERLANDER WATCHES ON AS NIMMO FOULS IT OFF. HE GOT HIS FOOT. THAT HAD TO HURT A LITTLE BIT. DAVID: NEW YORK CITY DOESN‘T NEED ANOTHER TOE STORY. VIOLENT SLIDER DOWN AND IN. KARL: UPPER LEFT PART OF HIS KNEECAP. DAVID: THAT‘S HARD TO DO. KARL: NEARLY DID IT AGAIN EDUARDO: BOTTOM OF THE SIXTH INNING. DAVID: THE FORMER RED SOX OUTFIELDER DESCRIBED MARIANO RIVERA‘S CUTTER AS VIOLENT. WE HAVE SEEN SOME VIOLENT PITCHES TONIGHT FROM BOTH SIDES. KARL: 2-2. NIMMO SINCE THIS BACK TO HOME PLATE. -- SENDS THIS BACK TO HOME PLATE. KARL: AS THE GAME WEARS ON, THE MIDDLE INNINGS WHERE COLE WAS THROWING IT, 80 PITCHES ON A WARM NIGHT IN NEW YORK, IT IS TAKING ITS TOLL A LITTLE. DAVID: THINGS SLOW DOWN WHEN THE LEADOFF MAN GETS ON. KARL: NIMMO HITS THIS HARD. VIENTOS WASN‘T SURE WHERE BAUERS WAS AND SO HE IS CAREFUL. IT IS FIRST AND SECOND, NOBODY OUT. WHAT HAVE YOU GOT? THIS DEEP INTO THE SEASON FOR THE FIRST TIME COME UP 5-1 ON THE CUBS. AUSTIN HEDGES, ANDREW MCCUTCHEN, SANTANA HAVE HOMERED. PITTSBURGH TRYING TO HOLD OFF THE REDS. MATT MCLAIN. HOW MUCH EXCITEMENT IS THERE? HE IS HITTING .331. IT IS 7-1. KARL: SO MUCH EXCITEMENT THAT EDUARDO‘S MOM IS GOING BACK TO CINCINNATI WHY? EDUARDO: HALL OF FAME WEEKEND BUT SHE SAID I NEED AN ELLY PICTURE. IF SHE SAYS SHE NEEDS A PICTURE WITH SOMEONE, THAT SOMEONE HAS SOMETHING GOING ON. KARL: ELLY IS A BLUR ON THE BASES WITH POWER. CINCINNATI PLAYING WELL. HOW ABOUT THOSE PLUCKY A‘S WITH A WINNING STREAK? STARLING MARTE, VIENTOS AT SECOND AND NIMMO AT FIRST. SWINGS AT ONE WAY OUTSIDE THE ZONE. 0-1. EDUARDO: LAST TIME UP, MARTE BROKE HIS BAT. SHATTERED HIS BAT ON A GROUND BALL TO SECOND. HE WAS TRYING TO CHEAT. KARL: DONALDSON AND RIZZO IN ON THE CORNERS. WILL NOT GO FISHING FOR THAT ONE. EDUARDO: SORT OF PREDICTABLE. DAVID: WHEN YOU THINK ABOUT GERRIT COLE AND HOW HE ESTABLISHES THE FASTBALL, KEPT THROWING UNTIL THEY HIT IT. NOW THE ADJUSTMENT PERIOD, BREAKING OUT THE BREAKING PITCHES. KARL: WAY OUTSIDE. VIENTOS SINGLED. HAD THE HARDEST BATTED BALL OF 2023. 114 .9 OFF THE BAT, HARDEST HIT BATTED BALL OF 23. MARTE SENDS THAT OUT OF PLAY. THE 118.3 WE SAW STANTON HIT ONE TO THIRD BASE WAS THE HARDEST HIT BATTED BALL VERLANDER HAS ALLOWED UNDER STATCAST. THAT WAS 2015. WOUND UP IN A DOUBLE PLAY. JIMMY CORDERO IS WARMING AND THE YANKEES BULLPEN. 2-2 TO MARTE, WAY LATE ON THE FASTBALL AT 99 ELEVATED. GERRIT COLE PICKS UP STRIKEOUT NUMBER EIGHT. EDUARDO: IS THAT WHAT WE CALL PITCHING BACKWARDS? DAVID: THREE SLIDERS TO SET HIM UP AND DO YOU THINK THIS GUY RETAINS HIS VELOCITY OR REACHES BACK FOR A LITTLE EXTRA AT TIMES. THERE IS YOUR PROOF, 99. KARL: MARTE. LINDOR STRUCK OUT LATE LAST NIGHT WITH THE BASES LOADED. GOES DOWN AGAIN TONIGHT. HERE IS MCNEIL. SLAPPED ONE DOWN THE THIRD-BASE LINE LAST NIGHT FROM SIMILAR SITUATION. THAT WAS 99 AND THAT GOT A LOT OF THE K ZONE. COLE KNOWS IT. FOR A GUY WHO HAS CALLED A LOT OF STRIKES TONIGHT, THAT LOOKED LIKE A BILL MILLER MISS. WAY OUT IN FRONT OF THAT 90 MPH CHANGEUP. EDUARDO: WAS THAT HIS FIRST CHANGEUP? DAVID: FIRST CHANGEUP OF THE GAME ON EITHER SIDE AND A GOOD ONE BY GERRIT COLE. KARL: ON HIS 88TH PITCH COME THE FIRST CHANGEUP. SO HE HAS GONE CHANGEUP. JUST THREW A SLIDER. DO YOU TRY TO BLOW ONE BY HIM UP TOP? DAVID: HE GOT MCNEIL LAST TIME WITH THE KNUCKLE CURVE WAY IN FRONT. THAT IS PROBABLY IN HIS MIND. GERRIT COLE COULD TRY THAT AGAIN OR UP THE LADDER. IF YOU ARE GOING TO GO HEATER, YOU HAD BETTER GET HIM TO CHASE. KARL: TERRIFIC BAT CONTROL. AS DIFFICULT A GUY IN BASEBALL TO STRIKE OUT. HE WILL NOT GET IT HERE. KINER-FALEFA MAKES THE EASY PLAY IN CENTER. HE GETS MARTE TO STRIKE OUT AND MCNEIL TO FLY OUT. HERE IS LINDOR. CLAYTON KERSHAW IS GETTING SET, WARMING UP, TERRIFIC NUMBERS. KEEPS GOING AND GOING. 13 STARTS THIS SEASON. LOS ANGELES, LOOKING UP AT THE DIAMONDBACKS AND THE STANDINGS OUT WEST. KERSHAW GETS THE BALL AGAINST THE WHITE SOX ON ESPN2. IN ABOUT 35 MINUTES. LINDOR DOUBLED HIS LAST TIME UP ON ON OFF-SPEED PITCH. THAT ONE WILL GET OUT OF PLAY. EDUARDO: YOU SEE THE YANKEES A LOT, A LOT MORE THAN WE DO. ABREU IS WARMING UP IN THE BULLPEN WITH THE NUMBER ONE ON THE MOUND. WHY? DAVID: THAT IS CORDERO. EDUARDO: C1 WHY IS HE WARMING UP? DAVID: IF COLE GIVES IT UP HE WANTS TO PROTECT HIM IF THE PITCH COUNT GETS TOO HIGH. CORDERO HAS BEEN VERY GOOD. THE YANKEES BULLPEN HAS BEEN GOOD THIS YEAR. CORDERO IS YOUR GUY TO COME IN WITH A HARD SINKER AND HARD SLIDER TO FACE A TOUGH RIGHT-HANDED BATTER. MAYBE IF IT GETS TO TOMMY PHAM. KARL: WHY DO YOU ASK THAT? DO YOU THINK IT WOULD BOTHER A PITCHER? EDUARDO: IT IS THAT YOU EXPECT TO HAVE MORE LEEWAY THAN THE OTHERS. WHEN CORDERO STARTED GETTING UP HE WAS IN THE 70‘S WITH PITCHES. KARL: 1-2 TO LINDOR. HERE IT COMES. HIGH. EDUARDO: GO BACK TO THE VISIT ON THE MOUND, GAVE HIM A BREATHER. GERRIT COLE COULD STEP BACK AND SAY I NEED TO GET AFTER MARTE. HE DID. MCNEIL FLIED OUT TO CENTER, NOW FOCUSING ON FRANCISCO LINDOR. KARL: 2-2. RANGING INTO FOUL TERRITORY. THERE IS ROOM. DONALDSON IS AFTER IT AND GERRIT COLE GETS OUT OF IT. LEADOFF SINGLE FOR VIENTOS, NIMMO FOLLOWED HIM AND THEN HE GETS THREE AND A ROW.KARL: TWO STARTERS WERE OUTSTANDING TONIGHT. VERLANDER NOW OUT OF THE GAME. GERRIT COLE TBD. THEY NEEDED TO GET OUTS AND THEY DID. 1-1 GAME AS WE START THE SEVENTH. JEFF BRIGHAM I WANT TO PITCH FOR THE METS AND THE FIRST PITCH HE THROWS IS IN THERE FOR A STRIKE. BRIGHAM APPEARED LAST NIGHT. 0.73 WHIP, SECOND LOWEST IN THE MAJORS AMONG RELIEF PITCHERS WHO MADE AT LEAST 20 APPEARANCES. HIS 25TH GAME FOR BRIGHAM. NO BALLS, TWO STRIKES. DONALDSON, THEN RIZZO AND LEMAHIEU. HE WILL NOT CHASE. INTERESTING SEASON FOR VERLANDER. THERE HAS BEEN GOOD AND BAD. HIS NUMBERS AGAINST THE YANKEES COMING IN WERE VERY GOOD ESPECIALLY HIS LAST SIX STARTS. HE DELIVERED A JAM TONIGHT. -- A GEM TONIGHT. DAVID: THE METS FAN BASE SHOULD FEEL GOOD ABOUT WHAT THEY SAW FROM VERLANDER. HE SHOWED A ROADMAP FORWARD. ALL THE TALK AROUND THE FASTBALL, WE WERE TALKING ABOUT THE MOVEMENT OF FILE ON THE FOUR-SEAMER. NOT THROWING AS HARD. HE SHOWED YOU HOW TO GET TO PLAN B, THEN THREW SOME GOOD FASTBALLS LATER IN THE GAME. A VERY ENCOURAGING EFFORT BY VERLANDER. HIS SLIDER WAS REALLY GOOD TONIGHT, NO WALKS, SIX PUNCH OUTS. PITCHED OFF THE SLIDER EARLY, THEN THREW SOME GOOD HEATERS LATE. KARL: DONALDSON, MATRIX MOVE TO GET OUT OF THE WAY OF THAT. 3-2 FROM BRIGHAM. THERE WE GO. A WALK. HAVEN‘T SEEN ANY OF THOSE TONIGHT. DAVID: THIS IS WHAT WE ARE TALKING ABOUT. 90 MILE-PER-HOUR, SLIDERS UPPER 80‘S, CURVEBALLS IN THE 70‘S. BACK AND FORTH PITCHING, FRONT TO BACK AND LATER ON, VINTAGE VERLANDER AT 96 AT THE TOP OF THE ZONE. VERY PATIENT, BROUGHT ALONG HIS FASTBALL AND GOT IT LATE. 14 SWINGS AND MISSES. LED BY THE SLIDER, EIGHT WHIFFS ON THAT PITCH. KARL: VERLANDER AND COLE HADN‘T WALKED A BETTER. BRIGHAM COMES IN AND WALKS DONALDSON. NO RIZZO. -- NOW RIZZO. HE HIT HIM. TWO THINGS WE HAVEN‘T SEEN ALL NIGHT. BRIGHAM IS LOOKING FOR RIZZO TO TRY TO GET OUT OF THE WAY. I DON‘T THINK HE HAD A CHANCE TO GET OUT OF THE WAY. THAT WAS A HEATSEEKING PITCH. EDUARDO: ANTHONY RIZZO DOESN‘T GET OUT OF THE WAY. THIS TIME GETS HIT ON THE LEFT FOREHAND -- FOREARM. A STRONGMAN THERE. KARL: GETTING INTO THE MINDSET OF A GUY WHO FOLLOWS VERLANDER IN A TIGHT GAME, WITH THE DEPLETED BULLPEN. NO DREW SMITH, EJECTED LAST NIGHT. THEY CHECKED HIS HANDS, REASON GIVEN, JUST TOO STICKY. DIDN‘T HAVE THE OPPORTUNITY TO CLEAN ANYTHING OFF SO NOW HE WILL SERVE A SUSPENSION HE HAD BUCK SHOWALTER IS DOWN A MAN IN THE BULLPEN. BRIGHAM HAS PUT HIMSELF IN A BAD SPOT WITH A WALK AND A HIT BATTER AND NOW LEMAHIEU. EARLIER IN HIS CAREER, CERTAINLY FOR THE YANKEES, MADE A LIVING OUT OF DELIVERING IN THESE SPOTS. EDUARDO: THIS IS WHY LEMAHIEU IS SO VALUABLE. HE UNDERSTANDS TRYING TO FORCE ESCOBAR IN A COUPLE MORE STEPS UP THIRD BASE, STILL HAS THE ABILITY TO DRIVE THE BALL TO RIGHT AND NEEDS TO MOVE THE RUNNER OVER. KARL: MILLER CALLED THAT A STRIKE. 0-1. DAVID: HOME PLATE IS MOVING AROUND A LITTLE BACK THERE TONIGHT. KARL: LEMAHIEU FOULS OFF THE CUTTER AT 90.YANKEES TRYING TO TAKE THE SECOND OF THE TWO GAME SERIES AND SWEEP THE QUICK SUBWAY SERIES AGAINST THE METS. DAVID: YOU WERE RIGHT, EDUARDO. THE LOST ART OF PRODUCING A PRODUCTIVE OUT. WE WANT TO GET HITS WHEN YOU CAN BUT SACRIFICING EXIT VELOCITY FOR A PRODUCTIVE OUT TO THE RIGHT SIDE SOMEWHERE, TRY TO ADVANCE THE RUNNER OR BOTH RUNNERS. KARL: BROOKS RALEY IS UP FOR THE METS. 1-2 SET UP OUTSIDE. GREAT TAKE FROM LEMAHIEU AS IT JUST MISSED THE STRIKE ZONE. EDUARDO: WE ARE SEEING BETTER AT BATS FROM DJ EARLY ON, LOTS OF SWING AND MISS, WE HAVEN‘T BEEN ACCUSTOMED TO SEEING DJ SWING AND MISS AS MUCH BUT YESTERDAY WITH THE HANGING BREAKING BALL, HE WENT DEEP. KARL: STAYED ALIVE ON A LATE EMERGENCY HACK AT 91. HAD GREAT SUCCESS AGAINST THE METS IN HIS CAREER COME OVER .300. THE HOME RUN LAST NIGHT WAS HIS FIRST IN 12 GAMES. DAVID: LEMAHIEU HAS ALWAYS BEEN DISCIPLINED. HITS THE FASTBALL THE OTHER WAY AND PULLS OFF-SPEED PITCHES. KARL: DONALDSON AT SECOND. RIZZO AT FIRST. BRIGHAM ON AND RELIEF OF VERLANDER IN A 1-1 GAME. NOBODY ELSE, TWO ON. STRIKE THREE. LEMAHIEU IS GONE. BIG STRIKEOUT FOR BRIGHAM. DAVID: BE IN PINK. -- PRETTY IN PINK. A LITTLE RUG BURN ON THE INSIDE CORNER. EDUARDO: PERFECTLY FRAMED. DAVID: PERFECTLY FLOPPED? KARL: KINER-FALEFA WILL NOT SWING AT THE FIRST ONE. OUTSIDE, 1-0. TRYING TO AVOID THE THREE STRIKEOUT NIGHT, KINER-FALEFA. INFIELD SQUEEZED UP THE MIDDLE. THAT IS A STRIKE. IMPLIED AS A SHORTSTOP THAT HE HAD A DIFFERENT APPROACH THAN HE DOES AS A CENTER FIELDER. IS IT A DIFFERENT WAY OF THINKING? DAVID: HEADING IN STRUCTURES -- INSTRUCTORS -- HITTING INSTRUCTORS HAVE WORKED WITH HIM. THEY THOUGHT THERE WAS MORE FOR HIM. FELT LIKE HE WAS PREOCCUPIED WITH PLAYING DEFENSE AT SHORT AND STRUGGLED AT THE END OF THE YEAR. THIS YEAR, DIFFERENT MINDSET. YOU ARE STRONG. YOU HAVE MORE TO GIVE. LOAD UP. LET IT GO. KARL: HAS THREE HOMERS IN HIS LAST 13 GAMES. FOUR ALL OF LAST YEAR. THERE ARE THE THREE HOMERS. DAVID: HE HAD A CHANCE TO BE ONE OF THE MOST VALUABLE SUPER UTILITY GUYS. HE CAN CATCH AS WELL. KARL: BRIGHAM LOOKING FOR A GROUND BALL. THERE IT IS. LINDOR. MCNEIL. THAT ONE GETS AWAY FROM VIENTOS AND THAT WILL ALLOW THE GO-AHEAD RUN TO SCORE. VIENTOS HAS BEEN GREAT ALL NIGHT AT SCOOPING BALLS AND THIS ONE GOT BY HIM AND ALLOWED THE RUN TO SCORE FROM THIRD. EDUARDO: THAT IS ONE THAT YOU HAVE TO KNOW THE RUNNER COME UP WITH IN YOUR BACK POCKET. INSTEAD HE THROWS IT. LOOK AT HIS LEFT FOOT. BY THE TIME IT GETS TO WHERE HE IS TRYING TO GET TO, TO SPREAD APART WITH HIS LEGS, HARD TO GET TO THE BALL FROM WHERE HE IS AT. MOVING TOWARDS HIS RIGHT AND IT GETS PAST HIM. NO NEED TO BE THAT SPREAD APART AT FIRST BASE. AS GOOD OF DEFENSE AS HE PLAYED EARLY ON, THIS COST THEM A RUN. KARL: FIELDER‘S CHOICE, 6-4 E4. THE GAME IS NOT TIED ANY LONGER.EDUARDO: MARK VIENTOS HAS HAD A NICE NIGHT. SAW THAT ONE EARLY ON BUT THIS ONE BY LINDOR AS WELL, SAVES HIM FROM AN ERROR. THIS ONE, DIVES A LITTLE BIT. YOU WONDER IF HE SHOULD HAVE BUT THIS ONE, THE LEGS TOO SPREAD APART. IT IS A PLAY BE AVERAGE FIRST BASEMAN USUALLY MAKES. KARL: MCKINNEY AGAINST BROOKS RALEY. SWINGS AT THE FIRST ONE. THE ERROR FROM MCNEIL GIVES THE YANKEES A 2-1 LEAD. LONG HALF INNING FOR COLE TOURIST UNDER THE ASSUMPTION HE IS COMING BACK. THE NUMBERS ON THE LEFTY RALEY. ACTIVATED OFF THE IL IN THE MIDDLE OF MAY. ONE RUN IN 13 GAMES. DONALDSON WAS WALKED, RIZZO GOT HIT BY A PITCH AND THE WALK COMES BACK AND SCORES THE RUN AGAINST THE METS. YANKEES SCORED THE RUN WITHOUT A HIT. 1-1, RUNNER GOES. GOOD JUMP. THE THROW IS OFF. KINER-FALEFA IS IN THERE AT THIRD AND PICKS UP HIS SEVENTH STOLEN BASE. OF THE SEASON. KINER-FALEFA GOT A TERRIFIC JUMP .. EDUARDO: ON A LOT OF FOOTWORK THERE BY ALVAREZ BEHIND THE PLATE. NO CHANCE FOR LINDOR AT ALL TO GET KINER-FALEFA. KARL: HALFWAY DOWN THE THIRD-BASE LINE. HERE HE COMES. ISAIAH KINER-FALEFA READ AROUND THE BASES AND THE YANKEES HAVE A 3-1 LEAD. BROOKS RALEY NEVER GAVE HIM A LOOK. EDUARDO: RIGHT DOWN THE LINE, THROWING FROM THE WINDUP, HAD THE LEFTY, VERY DELIBERATE. AS SOON I SEE STARTS HIS MOTION, HE IS GONE. KARL: TWO RUNS WITHOUT A HIT. COMMUNICATION BREAKDOWN AS THE BALL SAT BETWEEN LINDOR AND ESCOBAR. MCKINNEY IS A BORN-AGAIN -- ABOARD AGAIN. HOW COME NO ONE IS HELPING RALEY OUT THERE? DAVID: A WHOLE LOT OF NOTHING GOING ON OUT THERE EXCEPT FOR KINER-FALEFA, HALFWAY DOWN THE LINE. NO ONE NOTICES. WATCH THIS. ESCOBAR AT THIRD. WHOLE LOT OF NOTHING. EDUARDO: AND WITH TWO OUTS AS WELL. IS IT THIS YEAR KINER-FALEFA IS PLAYING WITH MORE CONFIDENCE? DAVID: FREEDOM. KARL: I‘M SHOCKED NO ONE WAS YELLING TO BROOKS RALEY. PERHAPS AT THE END OF THE THE GAME, IN A POST GAME WE WILL BE HERE DURING THEY WERE, BUT THERE WASN‘T MOVEMENT FROM ANYBODY BUT KINER-FALEFA WHO STOLE SECOND, CAME TO THIRD, COMES IN AND SCORES BY STEALING HOME.MATT‘S RELIEVERS HAVE LEFT THEM DOWN. A WALK AND A HIT BETTER. RALEY IS BEHIND 3-1 TO TREVINO AFTER GIVING UP A HIT TO MCKINNEY. DAVID: HAVE YOU EVER HAD A CALL OF A STOLEN HOME PLATE? KARL: AT THE MAJOR LEAGUE LEVEL? DAVID: FROM THE WINDUP. RALEY IS LEFT-HANDED. HIS BACK TO THE RUNNER. HE COULD ALMOST SEE HIM. KARL: POPPED UP. MCNEIL SAYS HE HAS IT. AN AGGRESSIVE INNING FOR THE YANKEES. A MESSY HALF FOR THE NEW YORK METS. HERE HE COMES AND THERE HE GOES. STEALING HOME BY ISAIAH KINER-FALEFA. THE YANKEES TRYING TO TAKE THEM BOTH IN THE SUBWAY SERIES.KARL: IKF THE FIRST YANKEE TO STEAL HOME SINCE DIDI GREGORIUS IN 2016. THE NEW YORK METS MADE A MESS OF THAT INNING AND WASTED A GOOD VERLANDER START, NOW TRAILING 3-1. JIMMY CORDERO IS ON THE MOUND AND HERE COMES SOME GAS. THE FIRST ONE IS 97 MPH. HIGH STRIKEOUT RATE, ONLY WALKED EIGHT OF 105. THAT HE HAS SEEN. GOOD PITCH AT 97. A LITTLE PAUSE FROM BILL MILLER. HOW ABOUT THE CATCHER? A LOT OF TIMES YOU WILL SEE THE BASERUNNER AT THIRD TRY TO DISTRACT THE PITCHER. BUT HE WAS SO FAR DOWN THE LINE. ESCOBAR WAS STANDING AT THIRD. THE METS DUGOUT DIDN‘T APPEAR TO BE YELLING, ALVAREZ DID SEE HIM, FIRST BASEMAN DID NOT ALERT THE PITCHER TO WHICH. YOU BROUGHT UP AN INTERESTING POINT. RALEY ROLLED THE HITTER COME THE BALL IS DEAD AND THE RUNNER GOES BACK. DAVID: LOOKED LIKE THAT S WAWHAT HE WAS TRYING TO DO. KARL: THE FIELD HAS GROWN QUIET AFTER THAT. HOW ABOUT WHAT KINER-FALEFA HAS DONE? THEY BROUGHT IN THE YOUNGSTER FULL DAY AT SHORTSTOP. KINER-FALEFA DIDN‘T HAVE A POSITION BUT HAS ESTABLISHED HIMSELF AS A VALUABLE MEMBER OF THE TEAM. HARRISON BADER IS YOUR EVERYDAY CENTER ELDER WHEN JUDGE IS IN RIGHT BUT THERE HAS TO BE A POSITION FOR THAT GUY. DAVID: NEVER PLAYED THE OUTFIELD BEFORE AND NOW HE IS PLAYING CENTER FIELD. KARL: 3-2 TO ALVAREZ. FILED OFF -- FOULED OFF OF MILLER, THE UMPIRE. AND A LITTLE BLOOPER, SHALLOW LEFT FIELD. THAT WILL GET DOWN. ALVAREZ, 74 MPH OFF THE BAT BUT THAT IS A LEADOFF SINGLE. EDUARDO: BEST TIME TO DO IT WITH TWO OUTS. TAKES OFF IMMEDIATELY. A LOOK AT STATCAST NUMBERS. SPRINT SPEED. TOPPING OFF AROUND 25.5 PER MINUTE. DAVID: ONLY HAD TO RUN 45 FEET FROM THAT POINT. EDUARDO: PRETTY COOL GRAPHIC THERE. KARL: ANOTHER ONE TO LEFT. THIS IS PLAYABLE FOR MCKINNEY. ONE DOWN AS BATY FLIES OUT. 2023 MLB ALL-STAR BALLOTS ARE OPEN. SCAN THE QR CODE OR VISIT MLB.COM/VOTE TO DECIDE WHO REPRESENTS YOUR FAVORITE TEAM THIS SUMMER. THAT IS THE 2023 ALL-STAR BALLOT NOW OPEN, QR CODE ON THE SCREEN. FEELS LIKE A LONG TIME AGO WHEN FANS HAND DELIVERED VOTES. THE METS ARE IN BUSINESS HERE IN THE BOTTOM OF THE SEVENTH. TWO ON AGAINST CORDERO. PHAM HAS TWO HITS. EDUARDO: 99 MPH SINKER, HIT IT, 95 OFF THE BAT. INNER PART OF THE PLATE, BRING THE HANDS IN. TOMMY LIKES IT. DAVID: HE CAN HIT A FASTBALL. KARL: NEITHER OF YOU ARE SURPRISED COLE‘S NIGHT ENDED. WAS HE DONE WITH THE NUMBER OF PITCHES? DAVID: EXPENDED HIMSELF THE LAST COUPLE INNINGS AND HAD CRAMPING ISSUES A COUPLE STARTS AGO. KARL: ESCOBAR UP THE MIDDLE. VOLPE, TAG, NO DOUBLE PLAY. SLAPPED THE TAG ON PHAM BUT THEY DIDN‘T HAVE A FLIP THROW TO GET A DOUBLE PLAY. NOW IT IS FIRST AND THIRD. DAVID: HITS YOU SOFTLY. YOU HAVE TO COME AND GET IT. YOU CAN‘T WAIT FOR THE BALL. AT THAT POINT, HE TRIES TO WHEEL AND LOOK AT THIRD. KARL: A LOT OF TALK ABOUT VIENTOS -- ABOUT VOLPE AND THE IDEA THAT HE HAS BEEN IN A HITTING SLUMP AND YOU THINK ABOUT SETTING HIM DOWN. THE DEDICATION TO VOLPE BEING ON THE MAJOR LEAGUE TEAM, THEY SAY HE IS ROCK SOLID AND HE HAS CERTAINLY EARNED THAT ESPECIALLY GIVEN HIS ABILITY TO MAKE ADJUSTMENTS AS HE WAS COMING UP FROM THE MINORS. SEEMS TO START SLOW AND FIGURE IT OUT. MAYBE HE IS DOING THAT AGAIN. UPDATE FROM KEVIN CONNORS, TWO DOWN, RUNNERS AT FIRST AND THIRD. VIENTOS. ALSO CAN HIT A FASTBALL. THE GO-AHEAD RUN. 1-0. SHOWALTER TALKED ABOUT THE YANKEE BULLPEN. HE THINKS GIVEN THE ARMS THEY HAVE, IT IS AS GOOD OF A BULLPEN AS THERE IS IN THE BIG LEAGUES. THE NUMBER OF GUYS THAT CAN THROW 100 WITH MOVEMENT, HE SAYS IT IS AS GOOD AS ANY IN BASEBALL. THE NUMBERS BACK IT UP. CORDERO FINDS HIMSELF IN A 3-0 TO WHOLE. BRANDON NIMMO ON DECK. OUR NACCHIO WARMING UP. -- MARINACCIO WARMING UP. DAVID: AARON BOONE SAID HE WOULD HAVE TO GET CREATIVE TO GET THE FINAL OUTS. KARL: TAKING IT ALL THE WAY. 3-1. DAVID: IT‘S NOT JUST ABOUT WHETHER YOU PITCHED LAST NIGHT. IT IS THE THREE OUT OF FOUR, CONSECUTIVE GAMES THAT ADD UP. KARL: BALL FOUR TO VIENTOS AND CORDERO HAS WALKED THE BASES LOADED IN THE SEVENTH. HERE COMES AARON BOONE, AND WE WILL HAVE MARINACCIO. HE MAKES THE SIGN TO BRING IN THE WRITING. HERE WE GO. TWO OUTS, BASES LOADED, DOWN TWO, BOTTOM OF THE SEVENTH AND THE METS HAVE THE LEADOFF HITTER COMING UP.KARL: THIS WAS THE CLAY HOLMES SITUATION LAST NIGHT. TONIGHT IT IS MARINACCIO WITH THE BASES LOADED. HE WILL FACE NIMMO. ALVAREZ AT THIRD, ESCOBAR AT SECOND. -MARINACCIO‘S FIRST ONE JUST MISSES AT 93. BALL ONE. YANKEES THREE, METS ONE. NIMMO FOULS IT BACK. DAVID: MARINACCIO AND NIMMO AND THIS MATCHUP, A REALLY GOOD CHANGEUP FOR MARINACCIO HERE. KARL: LAST FOUR SEAM FASTBALL AT 92. HE HIT HIM. HE WILL BE CALLED BACK OR IS HE POINTING HIM TO FIRST? POINTING HIM TO FIRST. THAT WILL BRING IN A RUN. FOR A SECOND MILLER HAD NIMMO‘S ATTENTION LIKE DID YOU SAY I DIDN‘T GET OUT OF THE WAY? BUT A RUN COMES IN AND IT IS A ONE RUN GAME. EDUARDO: BRANDON NIMMO, AND THE BACK OF HIS MIND HE IS THINKING I‘M GOING TO WIND UP IN THE SAME PLACE AS YESTERDAY. THIS TIME HE DRIVES ONE IN. KARL: MARTE STRUCK OUT WITH THE BASES LOADED YESTERDAY BUT MARINACCIO, FOUR-SEAM FASTBALL AT 91. EDUARDO: MARINACCIO THREW 21 PITCHES YESTERDAY. KARL: YOU KNOW YOUR BULLPEN IS TAXED. COLE COMES OUT OF THE GAME AND MARINACCIO HAS NEARLY HIT MARTE. IT IS 3-0. EDUARDO: TAKE TWO OR TAKE 3. KARL: THERE IS A STRIKE. ESCOBAR AT THIRD. VIENTOS AT SECOND. NIMMO AT FIRST. MARTE GOOD HITTER‘S COUNT, 3-1. RIPS THAT ONE INTO LEFT FIELD. HERE COMES ESCOBAR AND THAT WILL BE IT. THEY HAVE A CHANCE TO THROW BEHIND NIMMO. THEY DO. BRANDON NIMMO WAS TOO FAR OFF. HE THOUGHT VIENTOS WOULD BE WAIVED IN AND THE SWIM MOVE DIDN‘T WORK. BUCK SHOWALTER HAS HIS HAND UP. HE IS WAITING TO HEAR FROM THE REPLAY OFFICIAL. THEY ARE GOING TO APPEAL IT. DID THE LEFT-HAND GET IN BEFORE THE TAG? THE NEW YORK METS ARE CHALLENGING THE OUT CALL AT SECOND BASE. EDUARDO: THAT IS CLOSE. BECAUSE HE WAS CALLED OUT, IT COULD STAND BUT KEEP AN EYE ON THIS ONE. I THINK HE IS SAFE. DAVID: THE GLOVE HITS THE CHIN RIGHT HERE. THIS IS A GOOD SHOT. I DON‘T KNOW IF THAT IS ENOUGH TO OVERTURN. IT‘S REALLY CLOSE. KARL: IN NEW YORK THEY ARE LOOKING AT IT CLOSELY. THEY PROBABLY HAVE A YOU MORE ANGLES -- A FEW MORE ANGLES. THIS IS A HUGE, HUGE CALL. NIMMO DIDN‘T LOOK UP AT VIENTOS WHO WAS HELD THAT THIRD ON THE SHOT FROM MARTE. EDUARDO: THAT MAN RIGHT THERE IS HOPING FOR THAT TO BE REVERSED. WHEN YOU ARE RUNNING FROM FIRST TO THIRD YOU HAD BETTER KEEP YOUR HEAD UP IF YOU HAVE A LEAD RUNNER AND HE DIDN‘T. JOEY CORA CLEARLY HOLDING THE RUNNER AT THIRD. DAVID: THAT WAS A GOOD SHOT RIGHT THERE. AFTER REVIEW,HE CALL ON THE FIELD STANDS. THE RUNNER IS OUT. THE METS WILL LOSE THEIR CHALLENGE. KARL: WOW. INSTANT REPLAY. NIMMO OUT. GAME TIED.KARL: BRANDON NIMMO ROUNDED SECOND AS IF THERE WAS NO QUESTION IN HIS MIND THAT VIENTOS WAS SCORING. CORA PUT THE BRAKES ON VIENTOS AND THAT COST THE METS. WE ARE TIED. OTHERWISE THEY WOULD HAVE HAD THE BASES LOADED. WITH MCNEIL COMING UP. LUCKY COUPLE NIGHTS WITH NIMMO AND THE OUTFIELD AND THE BASERUNNING MISTAKE. EDUARDO: AS GOOD AS BRANDON NIMMO HAS BEEN IN THE BATTER‘S BOX, IN THE OUTFIELD, THAT HAS ALWAYS BEEN HIS ACHILLES HEEL, BASERUNNING. KARL: ADAM OTTAVINO THE NEXT PITCHER FOR THE METS AS WE START THE EIGHTH. GETS A STRIKE. GREAT CONVERSATION WITH ADAM OTTAVINO ABOUT HOW HE IS PITCHING DIFFERENTLY THAN WHAT WE WERE ACCUSTOMED TO. DAVID: THE MASTER OF TECHNOLOGY. HAS HIS OWN SHOP IN HARLEM THAT OTHER LAWYERS GO TO. KARL: 1-2. FAIR BALL. HE TAKES OFF FOR SECOND BASE. MARTE FIXED IT UP. VOLPE DELIVERS A DOUBLE TO LEAD THE EIGHTH. EDUARDO: TWO STRIKES AGAIN FOR VOLPE TAKING THE BALL THE OTHER WAY. THE OTHER TIME WAS MOVING TREVINO TO THIRD. THIS TIME, THE BALL GOT TOO MUCH OF THE PLATE ON THE 1-2 COUNT. ON THE OFF DAY, THAT HAS BEEN PAYING DIVIDENDS YESTERDAY AND TODAY IN THE SUBWAY SERIES. DAVID: THESE TEAMS PUNCHING BACK AND FORTH, ANSWERING. KARL: JAKE BAUERS HAS A SINGLE AND AN R.B.I. AND TWO FLY OUTS. YOU COULD MAKE THE CASE HE HAS HAD AS GOOD OF A BAT AS ANY YANKEE TONIGHT.STRAIGHT FASTBALL, FOUR SEAMER. TALK ABOUT SWEEPERS AND SLIDERS. OTTAVINO MADE A LIVING, NOW HE HAS GONE BACK TO MORE OF A SINKER BUT HE USES THE TECHNOLOGY. HE SAYS YOU HAVE TO READ THE BATTERERS. -- THE BATTERS. DAVID: ADDITIONALLY HE TALKED ABOUT HISTORICALLY SPEAKING, HE WAS ENCOURAGED TO THROW TWO-SEAMERS TO LEFTIES. THOSE WILL FLATTEN OUT AND GET HARD. FOUR-SEAMERS TO LEFTIES AND TWO-SEAMERS TO RIGHTIES. THAT HAS CHANGED OVER THE PAST 20 YEARS. KARL: VERLANDER AND COLE WERE OUTSTANDING. THIS GAME WAS 00 -- 0-0 INTO THE BOTTOM OF THE FIFTH. THE METS BROKE THROUGH AND EVERYTHING CHANGED ONCE THE BULLPENS WERE ACTIVATED. BOTH MANAGERS ACKNOWLEDGED, MY BULLPEN IS TIRED. DAVID: YOU WONDER IF BAUERS IS DOING THAT ON HIS OWN. 2-1 PITCH, SWINGING AROUND. EDUARDO: I BELIEVE HE WAS. KARL: WICKED PITCH. THAT IS WHAT OTTAVINO IS KNOWN FOR, THE CUTTER IN HARD FOR THE LEFTY. DAVID: YOU CAN SEE VOLPE DANCING AROUND OUT THERE. THAT IS ONE OF OTTAVINO‘S WEAKNESS, SLOW DELIVERY TO HOME PLATE CAN BE TAKEN ADVANTAGE OF. KARL: WHAT HE DOES AT SECOND, WE WILL SEE HOW FAR HE DANCES OFF. HE IS DOING IT AGAIN. OTTAVINO STRIKES HIM OUT. FILTHY CUTTER TO GET BAUERS. LET‘S GO BACK TO THE PLATE THAT ENDED THE SEVENTH -- THE PLAY THAT ENDED THE SEVENTH. HERE COMES NIMMO INTO THE SHOT. EDUARDO: THAT IS ONE THAT I‘M OF THE CALL COULD HAVE GONE EITHER WAY. IT WENT THE WAY MANY THOUGHT IT WASN‘T GOING TO GO. AS A BASE RUNNER, KNOWING YOU ARE A TRAILER, YOU HAVE TO SEE AHEAD AND MAKE SURE VIENTOS WAS GOING HOME FOR YOU TO GO. DAVID: HAD HIS HEAD DOWN THE HALLWAY. EDUARDO: JOEY CORA IS GOING TO HAVE CONVERSATIONS WITH BOTH VIENTOS ON THE DEFENSIVE SIDE, AND BRANDON NIMMO ON THE BASERUNNING. KARL: FIRST BASE OPEN. HERE IS STANTON. PITCHED CAREFULLY HERE. 4-11, TWO HOMERS, FOUR K‘S. EDUARDO: IF I‘M A HITTER, STANTON AT THE PLATE, I WANT THE RUNNER AT SECOND TO STAY STILL. BE READY IN SCORING POSITION. KARL: I HEARD HIM SAY SOMETHING ABOUT A VIOLATION. DID THEY CALL MCNEIL FOR BEING ON THE OTHER SIDE OF THE BAG? YES. DAVID: THAT IS WHAT THEY ARE CALLING. HE IS PLAYING LIKE A FIRST BASEMAN, STRADDLED THE BAG. KARL: HERE COMES SHOWALTER. DAVID: THE SHIFT RULES. EDUARDO: THIS IS INTERESTING. IF I‘M NOT MISTAKEN MCNEIL -- OH NO. WATCH HIS FOOT. IT WAS ON THE SHORTSTOP SIDE OF THE BAG. HE IS RIGHT. VERY GOOD CALL. KARL: SPLIT SECOND BASE IN HALF AS HIS RIGHT FOOT WAS ON THE OTHER SIDE. WASN‘T ON THE DIRT ON THE OTHER SIDE BUT IT WAS ON THE RIGHT SIDE OF THE BAG. EDUARDO: AS SOON AS THE FOOT IS ON THAT SIDE OF THE BAG -- DAVID: LOOKS LIKE IT DOES ON THE DIRT FROM THIS ANGLE. -- IT DIAZ ON THE DIRT FROM THIS ANGLE. KARL: BILL MILLER FROM HOME PLATE SEEING IT. EDUARDO: HE IS TRYING TO SAY THAT IS WHERE HE WAS AND THAT‘S NOT WHERE HE WAS ORIGINALLY. DAVID: NOT THE SPIRIT OF THE RULE EITHER. KARL: ONE BALL, ONE STRIKE. DAVID: THE SPIRIT OF THE RULE CHANGE WAS TO PREVENT MAJOR SHIFTING, NOT-SO-SUBTLE PUT ON THE WRONG SIDE OF THE BAT. TECHNICALLY THE RIGHT CALL BUT NOT IN THE SPIRIT OF THE RULE. KARL: 1-1 TO STANTON. 2-1. EDUARDO: FROM THE DUGOUT‘S, AND WE HAVE HEARD PLAYERS CHIRPING SAYING DON‘T FORGET ABOUT THE HITTERS. YOU CAN‘T FORGET ABOUT NUMBER 27, GIANCARLO STANTON. HE WANTS TO DANCE AROUND HIM STEAL THIRD. YOU HAVE TO EXECUTE YOUR PITCHES WITH STANTON AT THE PLATE. KARL: 24 CAREER HOMERS AT CITI FIELD AND DIDN‘T LOOK GOOD ON THAT ONE. NO VIOLATION AGAINST MCNEIL. STRIKE THREE. DAVID: CHANGEUP DOWN AND IN FOR OTTAVINO. HE TALKED ABOUT SWITCHING UP HIS BATTERERS. WE HAVE NEVER SEEN HIM DO THAT BEFORE. KARL: TWO BALLS, TWO STRIKES. VOLPE NEARLY WENT. STANTON HIGH CHOPPER. LINDOR BACKS UP. LOOKED LIKE VOLPE WOULD NEARLY GO ON HIS OWN. SECOND OUT. NOW IT IS UP TO JOSH DONALDSON IN THE EIGHTH INNING OF A TIE BALLGAME. VOLPE WILL COME DOWN THE THIRD-BASE LINE. DONALDSON POPS IT UP. PHAM IS UNDER IT. OTTAVINO GETS OUT OF IT. A LOT OF ACTION AFTER THE LEADOFF DOUBLE BUT STRANDED UP THIRD. MCNEIL, LINDOR AND ALVAREZ AFTER THIS. EDUARDO:ED OR -- WIOUTHT THE EXPRESS WRITTEN CONSENT. KARL: MLB LIVE HAD A HUGE PRESENCE OF THE GOVERNORS BALL MUSIC FESTIVAL IN QUEENS. THE INTERACTIVE SPACE, A CHANCE TO LISTEN TO MUSIC AND CHECK OUT OUR WORK. BRING IN CLASSIC RIVALRIES TO LIFE. THE GOVERNORS BALL IS WIDELY POPULAR. 3-3 GAME, TOMMY KAHNLE ON. HE HAS WORKED HIS WAY BACK INTO THIS BULLPEN AND HAS YET TO ALLOW AN EARNED RUN. HE WILL GET JEFF MCNEIL, LINDOR AND ALVAREZ. THE FIRST PITCH MISSES. EDUARDO: SCOUTING REPORT IS SIMPLE ON HIM. BE AWARE OF THE CHANGEUPS. HAS GOOD LIFE ON IT. ALSO THROWS IN THE MID-90‘S. THE CHANGEUP. KARL: MCNEIL POPPED UP ON THE INFIELD. HERE COMES RIZZO. EASY ONE. JEFF MCNEIL GOT TOGETHER WITH HIS MANAGER BUCK SHOWALTER WAS EXPLAINING TO HIM WHY HE DIDN‘T THINK THERE WAS A VIOLATION ON A BALL STANTON SWUNG AT AND THEY CALLED A NO PITCH. IT WAS INTERESTING CHAD WHITSON WAS STANDING RIGHT BEHIND MCNEIL BUT IT WAS THE HOME PLATE UMPIRE WHOSE VOICE YOU CAN HEAR SAYING THAT‘S A VIOLATION. KAHNLE FIRES IN THE FASTBALL TO LINDOR. THE WAY THE NUMBERS BEAR OUTCOME OF THE ADVANTAGE TILTS TOWARDS THE YANKEES WHEN IT COMES TO BULLPEN GAMES. THAT WAS WAY OFF. CALLED A STRIKE ON A CHANGEUP TO LINDOR. EDUARDO: FRANCISCO IS ON HIS WAY TO SECOND. LET ME ASSESS THE ZONE RIGHT NOW. YOU HAVE TO OPEN UP A LOT MORE. YOU HAVE TO GIVE UP THE INSIDE PART OF THE PLATE NOW. DAVID: TREMENDOUS MOVEMENT ON THAT PITCH. SOMETIMES UMPIRES GET FOOLED AS WELL. KARL: GOT HIM. LINDOR GONE, 89 MPH CHANGEUP.KARL: THE PARTY JUST KEEPS GOING. EDUARDO: ALL THE TIME NOW. OUR CASA IS YOUR CASA. DAVID: SUNDAY NIGHT AND WEDNESDAY NIGHT. KARL: IF IT ENDS IN A Y. THAT IS IN, 2-0 TO ALVAREZ. HOME RUNS ON THE SEASON, DAVID ROBERTSON WARMING AND THE NEW YORK METS BULLPEN. TWO BALLS, NO STRIKES. ALL SORTS OF POWER IN THAT BAT AND THAT BODY. HE WAS SWINGING FOR THE BRIDGE. DAVID: YOU CAN SEE WHY HE WAS THE TOP RANKED PROSPECT. TREMENDOUS LEVERAGE AND SPEED. KARL: A GOOD ONE THERE, 90 MILE-PER-HOUR CHANGEUP. BACK IN THE COUNT IS KAHNLE AT 2-2. EDUARDO: LEFT THAT ONE UP. GOT AWAY WITH IT. NOT AFRAID TO THROW THE CHANGEUP TO LEFTIES AND TO RIGHTIES. KARL: RIGHT BICEPS TENDINITIS, MISSED THE FIRST 56 GAMES OF THE SEASON DID KAHNLE. MISSED INSIDE. 3-2. DAVID: DEFINITELY IN THE CATEGORY OF A POWER CHANGEUP, LOW 90‘S, UPPER 80‘S. KARL: FELT LIKE OLD-SCHOOL BASEBALL THE LAST COUPLE NIGHTS AT CITI FIELD. EVEN WITH THE PITCH CLOCK. THERE IS NUANCE TO THE GAME, AS WE SAW WITH MCNEIL AT SECOND BASE. 3-2. THAT IS FOUL. DAVID: THEY HAVE TO GO BACK AND FORTH FOR THESE TWO GAMES. YANKEES WITH A BIG COMEBACK LAST NIGHT, THE METS COMING BACK IN THIS GAME AS WELL. NICE COMEBACK LAST INNING, OTHERWISE MARRED BY THE NIMMO BASERUNNING. KARL: THAT ALMOST, THE BALL WINDS UP IN THE GLOVE OF TREVINO .. BACK TO BACK PUNCH OUTS LINDOR AND ALVAREZ. RIZZO, LEMAHIEU,KARL: LISTEN TO EVERY MLB GAME LIVE OR ON-DEMAND, ON-DEMAND, MI BASEBALL, AND LIVE LOOK IN‘S ON MLB BIG INNING. NO BLACKOUTS. VISIT MLB.COM/AT-BAT FOR DETAILS. PART OF THE FIFTH LARGEST REGULAR-SEASON CROWD IN CITI FIELD HISTORY TONIGHT. DAVID ROBERTSON, ONE OF THOSE GUYS WHO HAS PITCHED FOR BOTH THE YANKEES AND METS, ON TO FACE ANTHONY RIZZO, DJ LEMAHIEU, AND ISIAH KINER-FALEFA. 3-3, NINTH INNING. RIZZO. HE CANNOT FOR THE LIFE OF ME HIT ANTHONY RIZZO. EDUARDO: RIGHT IN FRONT OF THE PLATE. THEY ARE GIVING FRANCISCO ALVAREZ A BREATHER HERE. HIT HIM WITH THE TOP PART OF THE CHEST PROTECTOR. KARL: WE HAVE SEEN THAT ALREADY WITH RIZZO TONIGHT, HE GOT HIT BY THAT PITCH IN THE SEVENTH INNING. BUT ALL CLEAR. 84 MILE AN HOUR KNUCKLE CURVE FROM DAVID ROBERTSON, WHO TALKED WITH US EARLIER IN THE CLUBHOUSE. THE OUTFIELD IS SO GOOD, HE IS JUST READY TO GO AND GO. DAVID: HIS PITCH STUFF LOOKS AS GOOD AS IT EVER HAS, 94 MILES AN HOUR WITH THE FOUR-SEAM CUTTER. KARL: CURVEBALL TO RIZZO AND GOT HIM THERE. SEVENTH INNING, HUGE INNING HERE. ISIAH KINER-FALEFA. A STEAL OF HOME. TIED THE GAME UP AND NIMMO DID NOT PUT THE BRAKES ON. HE BANGS RIGHT INTO IT, THROWN OUT TRYING TO GET BACK TO SECOND. THAT ENDED THE INNING, OTHERWISE BASES WOULD HAVE BEEN LOADED. LEMAHIEU SWINGS AND MISSES FROM ROBERTSON. DAVID: GOOD BASE RUNNING VERSUS BAD BASERUNNING AND MENTAL MISTAKES. KARL: 94 MILES AN HOUR OR A STRIKE. ROBERTSON FOLLOWED RIVERA AND THEY ALMOST MIRRORED EACH OTHER, LIKE ROBERTSON WAS RIVERA LIGHT. THAT BECAME SUCH A WEAPON. THAT‘S A FAIR BALL, OFF THE TARP , AND GOING TO ALLOW THEM A FEW TO GET INTO SECOND EASILY. FAN DID NOT KNOW IF IT WAS GOING TO HIT ALL THE WAY DOWN INTO THE CORNER. INSTEAD IT HIT OFF THE TARP. DJ LEMAHIEU STARTING TO WARM UP, LAST COUPLE OF NIGHTS A HOMER AND TONIGHT A DOUBLE. EDUARDO: KEEPS THIS ONE FAIR TOO, COMING UP FOR HIS FOURTH AT-BAT, 0-3, SALVAGING THE NIGHT WITH A DOUBLE RIGHT OFF THE LINE. DAVID: BREAKING BALL STAYED ON THE INNER PART OF THE PLATE, ALLOWING DJ TO DROP THE BARREL. KARL: DJ LEMAHIEU WITH THAT DOUBLE ON THE GAME. PINCH RUNNER IS IN AT SECOND. NOW WE WILL HAVE A MEETING ON THE MOUND. GLEYBER HAS GOT A BAD. CABRERA IS THE GUY AT SECOND BASE AND WILL BE RUNNING AGAINST ROBERTSON. TORRES WILL HIT FOR KINER-FALEFA. WHEELS ARE SPINNING, FIRST BASE IS OPEN. MCKINNEY ON DECK. FOURTH DOUBLE OF THE GAME FOR THE. GOOD JOB THERE, A GUY WHO HAS REALLY IMPROVED HIS BLOCKING, ALVAREZ. ONE OUT, KEEPING THAT RUNNER OFF THIRD BASE. DAVID: ALVAREZ, MUCH MORE ATHLETIC THAN I THOUGHT. HE RUNS FAIRLY WELL. YOU KNOW ABOUT HIS POWER. KARL: GLEYBER MUST 52, 11 HOMERS, 28 R.B.I. BIG SWING AND A MISS, SLIDER THAT WAS UP. EDUARDO: DON‘T THROW THAT SAME PITCH TO HIM THOUGH. KARL: MCNEIL ON THE RIGHT SIDE OF THE BAG KEEPS AN EYE ON CABRERA. THAT BREAKING PITCH NEARLY HIT GLEYBER TORRES. MCKINNEY HAS GOT TWO HITS, A DOUBLE AND A SINGLE. HE IS NEXT UP. LABOR TORRES PINCH-HITTING, TRYING TO GIVE HIM THE LEAD. DID NOT GET THE CALL. THAT HAS BEEN A STRIKE CERTAINLY ON MANY OCCASIONS TONIGHT. THEY WILL HAVE A GOOD CONVERSATION AFTER THE GAME. DAVID: IT‘S BEEN BOTH WAYS. KARL: BALL FOUR, GLEYBER TORRES. NOW ROBERTSON IS GOING TO GET MCKINNEY. MCKINNEY, TREVINO, AND FULL PAY HAS BEEN OUTSTANDING IN THE BOTTOM OF THE ORDER TONIGHT. 4-9, A RUN, THREE DOUBLES. THE REST OF THE TEAM JUST 2-21. EDUARDO: YOU HAVE TO BE AWARE OF THE FIRST PITCH. MCKINNEY LIKES TO GO AFTER IT. KARL: 93 MILE AN HOUR CUTTER DOWN THE MIDDLE. ESCOBAR ABOUT EVEN WITH THE BAG, MCNEIL DEEP AT SECOND BASE AND HOPING FOR A GROUND BALL DOUBLE MCKINNEY, SLOW ROLLER, AND HE WILL GET ONE. STEPPED ON THE BAG IS VIENTO, SO SECOND AND THIRD NOW. JOSE TREVINO HAD A BAT, JOSE TREVINO IS GOING BACK TO THE BENCH. LOOKS LIKE BILLY CALHOUN IS GOING TO PINCH-HIT. EDUARDO: EMPTYING OUT THE BENCH THIS INNING. KARL: A LOT OF GUYS HAVE CONTRIBUTED TONIGHT FOR THE NEW YORK YANKEES. BIG HITS. AT THE BEGINNING OF THE YEAR YOU PROBABLY DIDN‘T EXPECT TO BE MAKING HUGE CONTRIBUTIONS. CALHOUN IS ANOTHER ONE OF THOSE GUYS. A SPOT HERE, SECOND AND THIRD. FIRST PITCH HIS WAY INSIDE. EDUARDO: THE ENTIRE BENCH OF AARON BOONE WILL BE USED THIS INNING. HIGASHIOKA ONE WAY OR ANOTHER WILL COME INTO THIS GAME ON THE DEFENSIVE STANDPOINT IN THE BOTTOM HALF OF THE INNING. KARL: NEXT ONE TO CALHOUN, GETS A PIECE OF THE CORNER ACCORDING TO MILLER. .240 BATTING AVERAGE FOR CALHOUN, FIVE HOMERS, 16 RUNS BATTED IN, OPS AT 1725. ONE BALL, ONE STRIKE. CALHOUN, CHOPPER. ESCOBAR CUTS IT OFF, THROWS ACROSS THE DIAMOND, AND GETS HIM. YANKEES THREATENED IN THE TOP OF THE NINTH, COULD NOT SCORE. NOW UP TO BRETT BATY, TOMMY PHAM, AND EDUARDO ESCOBAR. ROBERTSON PITCHES IN AND OUT OF TROUBLE.KARL: A GOOD ONE LAST SUNDAY, WE HOPE TO HAVE ANOTHER ONE THIS SUNDAY. YANKEES-RED SOX. THIS TIME AT FENWAY PARK. AVAILABLE ON ESPN DAY FOUR DAYS AND ESPN RADIO. WE WILL START AT 6:00 EASTERN WITH BASEBALL TONIGHT SUNDAY NIGHT COUNTDOWN. ALBERT ABREU ON FOR THE YANKEES. WITH EDUARDO PEREZ, DAVID CONE, I‘M KARL RAVECH. FIRST PITCH, BOTTOM OF THE NINTH INNING WITH A TIE GAME IS IN FOR A STRIKE TO BRETT BATY. HE HAS LEFT THE YARD FOUR TIMES THIS SEASON. TOMMY PHAM DUE UP NEXT, HE HAS A DOUBLE AND A SINGLE. BIG SWING FROM BATY, TERRIFIC NUMBERS AT THE MINOR LEAGUE LEVEL. MOST METS FANS CLAMORING TO GET INTO THE LINEUP AND REGULARLY PLAYING. 2-2 FROM ABREU, 98 MILE AN HOUR SINKER. DAVID: A BIG ARM, THAT HAS NEVER BEEN THE QUESTION. HIS BASE ON BALLS RATE A LITTLE BIT HIGH. THAT HAS ALWAYS BEEN THE QUESTION. KARL: THIS BALL TO RIGHT. BOWERS DRIFTING INTO THE CORNER AND JUST SHORT. HE IS THERE TO MAKE THE PLAY. BOWERS IN RIGHT STILL, MCKINNEY MOVED TO CENTER, CABRERA NOW IN LEFT FIELD, GLEYBER TORRES AT SECOND BASE, HIGASHIOKA BEHIND THE PLATE. ONE DOWN, DANGEROUS HITTER, TOMMY PHAM. A COUPLE OF BASEBALLS APPEARED TO BE ON THE OUTFIELD WARNING TRACK. CABRERA CLEANS UP THE FIELD AND NOW IT IS PHAM. FIRST PITCH IS WAY AWAY. WE ARE TIED AFTER NINE. MANFRED MANN WILL BE ON SECOND BASE, AS TONY LIKES TO SAY. SPECIAL RUNNER. 1-0. IN AND OUT OF THE GLOVE OF HIGASHIOKA. THE METS HAVE NINE WALKOFF WINS AGAINST THE YANKEES. DAVID: NOT GIVING IN TO TOMMY PHAM. 2-0 SLIDER. EDUARDO: IF YOU THROW IT 2-0, YOU MIGHT AS WELL THROW IT 3-1. DAVID: AGREED. KARL: EIGHT HIM UP ON THE GROUND TO SHORT. SINKER AT 98.6. DAVID: WELL, IF YOU ARE GOING TO THROW IT LIKE THAT, OK THEN. 99 MILES AN HOUR WITH THAT KIND OF MOVEMENT. LOOK AT THAT BALL POURING IN FROM TOMMY PHAM. EDUARDO: 3-1 COUNT SWING RIGHT THERE, A LOT OF LIFE. KARL: EDUARDO ESCOBAR SWINGS AT THE FIRST ONE.IN 2023, THE METS HAVE TWO WALKOFF WINS, THE YANKEES HAVE THREE WALKOFF LOSSES. FOLLOWS NOT OFF, 98 MILE AN HOUR PITCH FROM ABREU. DAVID: SORT OF A GREAT EXAMPLE OF A MODERN-DAY BULLPEN, THE SIX BEST RELIEVERS THROWING 98, 99 WITH THAT KIND OF MOVEMENT. 2023, TOUGHER TO HIT THAN EVER. KARL: LAST NIGHT THE YANKEE BULLPEN, 4.1, AND DID NOT GIVE UP ANYTHING. TONIGHT CORDERO GOT TOUCHED UP FOR A COUPLE OF EARNED RUNS. 1-2. AFTER CORDERO IS MARINACCIO, KAHNLE, ABREU. BRIGHAM GAVE UP TWO EARNED RUNS AND SINCE THEN, RALEY, DAVAO, AND ROBERTSON HAVE BEEN LOCKED DOWN. OUTSIDE 2-2. EDUARDO: THE SLIDER HAS BEEN THE PITCH HE HAS BEEN ABLE TO CONTROL IN THE ZONE. KARL: THERE IS MIKE BREEN. WE SAW THE NBA FINALS, BIG NEW YORK METS FAN. SEE IF ESCOBAR CAN END THIS BAD BOY. HE IS CONFUSED BY WHAT THE GUY IN FRONT OF HIM IS DOING. HE IS LIKE, DOWN IN FRONT. KARL: YOU SEE COURTSIDE NBA GAMES. ESCOBAR IS GONE, 99. THE YANKEE BULLPEN, AS GOOD AS IT HAS BEEN ALL YEAR, DELIVERS HERE LATE. ARE NACCHIO, KAHNLE, ABREU.KARL: GERRIT COLE AND JUSTIN\\⁠hKARL: GERRIT COLE AND JUSTIN VERLANDER COMBINED 12 INNINGS, SEVEN HITS, ONE EARNED RUN EACH. COLE HAD EIGHT, VERLANDER SIX. THE BIG STEEL OF HOME BY ISIAH KINER-FALEFA AND THE BASERUNNING MISTAKE BY BRANDON NIMMO. THE METS WOULD HAVE HAD BASES-LOADED AND A CHANCE TO GRAB THE LEAD. NOW WE GO TO THE 10TH INNING. HIGASHIOKA IS THE RUNNER AT SECOND BASE. VOLPE GOES THE OTHER WAY BUT THAT ONE IS GOING TO GET OUT OF PLAY. DOMINIC LEONE, THE SIXTH MET PITCHER OF THE NIGHT. GOOD PITCH THERE. THAT SEEMS TO BE A SPOT VOLPE IS VULNERABLE TO. EDUARDO: HE IS BEARING DOWN WITH TWO STRIKES TONIGHT, DRIVING IN THE BOTTOM OF RIGHT FIELD. WOULD NOT EXPECT ANY OTHER THING FROM HIM RIGHT NOW. A LOT MORE CONFIDENCE SINCE YESTERDAY. KARL: GOT HIM THERE AND ELEVATED A LITTLE. 92, WAY OFF THE PLATE. VOLPE CANNOT ADVANCE HIGASHIOKA. DAVID: A COUPLE OF DIFFERENT LOOKS ON LEONE‘S BREAKING BALL. KARL: HERE IS BAUERS. SWING AND A MISS. GOOD FIGHT THEY ARE TOO. LEONE ABOUT TWO RUNS OVER HIS LAST SEVEN GAMES. OPPOSING BATTERS HITTING .130. EDUARDO: HIGASHIOKA NOT WITH A BIG LEAD, BUT DECENT SECONDARY AT SECOND. C1\\⁠hC1 TRY TO CATCH IT TO BLOCK IT. KARL: 97 MILES AN HOUR, STRAIGHT. ONE BALL, TWO STRIKES. SPOILS IT. DAVID: BAUERS HAS BEEN A TOUGH OUT FOR ALL METS PITCHERS TONIGHT. KARL: ONLY 10 GAMES ON THE SCHEDULE TOMORROW. BOTH TEAMS WILL HAVE AN OFF DAY. BAUERS. MEMO. HIGASHIOKA GOES BACK AND HE WILL STAY PUT. TWO MEN DOWN AND GIANCARLO STANTON COMES UP WITH FIRST BASE OPEN. ALVAREZ WILL GO OUT AND TALK TO LEONE. ALVAREZ IS ON DECK. LINDOR COMES IN. HE HAS BEEN A GIANT MET KILLER. MOST HOME RUNS AGAINST THE METS, 38, AHEAD OF HARPER AND FREEMAN. MANY OF THOSE ACCUMULATED WHEN HE WAS WITH THE MARLINS. 24 LONG BALLS AT THIS BALLPARK. YOU GOING TO PITCH TO HIM? DAVID: I WONDER WHAT BUCK IS THINKING. DO YOU MESS AROUND AND DON‘T GIVE IN BECAUSE YOU HAVE THIRD BASE OPEN, OR YOU GO AHEAD AND PUT UP FOUR? TRY TO GET STANTON TO CHASE. DAVID: VERY GOOD LOW-BALL HITTER. KARL: MISSES AWAY. WITH ALL DUE RESPECT TO DONALDSON, I‘M NOT SURE I AM FOLLOWING THIS LINE OF THINKING. YOU ARE GOING TO HAVE YOUR RUNNER ON AT SECOND. DAVID: I UNDERSTAND WHAT YOU ARE SAYING BUT GIANCARLO STANTON CAME INTO THE SERIES STRUGGLING AS WELL. 2-0, PUT THEM ON. KARL: SEE IF HE WOULD CHASE, HE DIDN‘T ON THE FIRST ONE. SECOND RUN WAS NOT REALLY TRACEABLE, NOW DONALDSON WILL COME UP WITH TWO MEN ON. IF YOU ARE A MANAGER, YOU HAVE TO HAVE A LOT OF TRUST IN YOUR PITCHER. DAVID: SOMETIMES IT‘S BETTER TO LET HIM GO TO FIRST BASE. HERE YOU HAVE DONALDSON. KARL: HIGASHIOKA, 66. DONALDSON. LINDOR BACKS UP, GOES TO SECOND. THEY WILL NOT SCORE, TOP OF THE 10TH. RAMIREZ WARMING AND THE YANKEE BULLPEN. 9-1-2 AS THE METS COME UP IN THE BOTTOM OF THEKARL: DONALDSON SENT ONE INTO THE HOLE. NOW THE METS HAVE THEIR CHANCE. ESCOBAR IS THE RUNNER AT SECOND. RIZZO IS WAY IN. MARK VIENTOS. EDUARDO: VIENTOS IS A MIDDLE OF THE ORDER BAT IN THE MINOR LEAGUES. REALLY WOULD BE SURPRISED BUCK SHOWALTER WOULD PUT HIM HERE. KARL: RIZZO BACKS UP A BIT BACK GOT A PIECE OF THE CORNER AT 98. EDUARDO: MANY AT HOME WOULD SAY HE IS NOT A BAT GUY NOW. IT IS HARD WHEN YOU DON‘T HAVE A PLAYER CONDITIONED AND TRAINED HOW TO BUNT THE BALL, ESPECIALLY TOWARDS THIRD WHEN YOU HAVE AN EXCELLENT THIRD BASEMAN. DAVID: HE DOESN‘T KNOW HOW TO BUNT. KARL: 0-2. A STARING CONTEST BETWEEN ABREU AND ESCOBAR. MISSES IN SIDE. EDUARDO: OUTFIELD VERY SHALLOW. KARL: YOU CAN HEAR BILL MILLER, WHICH IS GREAT. I HAVE HEARD OTHER PEOPLE INCLUDING YUSEI THEY HAVE MIK CS, LET‘S HEAR IT. IT‘S ALL PART OF THE MINUTIA OF BASEBALL IN 2023. NOW VIENTOS IS LOCKED IN, ABREU CAN GO. 1-2. WILD SWING, PITCH DOWN AND AWAY AND HE IS GONE. HERE COMES BUNIM. HE HAS RAMIREZ THE LEFTY WARMING FOR THE LEFTY NIMMO. DAVID: AFTER ALL THAT, SLIDER DOWN AND AWAY AND A CHASE. KARL: THE CHALLENGE OF THE YANKEES IS GOING TO BE WHEN THEY GET A LEAD, THEY HAVE A BULLPENS THAT HAS SO MANY WEAPONS. WE WILL TAKE A TIMEOUTKARL: AN OPPORTUNITY FOR BRANDON NIMMO TO EXORCISE A COUPLE OF DEMONS. LAST NIGHT THE FLY BALL HAD A CHANCE AND HE WAS FRUSTRATED WITH HIMSELF. YANKEES WON 7-6. TONIGHT MARTE DELIVERED THE TYING RUN AND NIMMO DID NOT LOOK AHEAD OF HIM. HE GOT THROWN OUT GOING BACK TO SECOND BASE. HAD HE NOT, THEY WOULD HAVE HAD THE BASES LOADED AND ANOTHER CHANCE TO SCORE. WITH THE SYMMETRY OF BASEBALL, NIMMO HAS A CHANCE AGAINST RAMIREZ, WHO HAS BEEN DYNAMITE. LEFTY ON LEFT. ESCOBAR REPRESENTS THE WINNING RUN. THE FIRST BENCH IN FOR A STRIKE. EDUARDO: CONTINUES TO PLAY VERY SHALLOW. KARL: NIMMO, RIGHT FIELD DEEP. STILL GOING BACK. IT‘S OFF THE WALL. ESCOBAR, A SLOW START AT SECOND BASE. HE IS BEING WAVED IN. HERE HE COMES. AND THE METS WALK IT OFF. WHAT A RELIEF FOR BRANDON NIMMO. EDUARDO ESCOBAR WAS TWO FEET OFF SECOND BASE WHEN THAT BALL HIT THE WALL AS HE WAS ALLOWING BAUERS TO GO BACK. BRANDON NIMMO DELIVERING THE BIG HIT. DAVID: WITH ONE OUT, NO REASON TO BE ANYWHERE NEAR THAT BAG. NONETHELESS, NIMMO‘S BIG HIT IS A GREAT DEODORANT FOR AN UGLY GAME. IT WOULD HAVE BEEN A BRUTAL LOSS HAD THEY NOT COME THROUGH. EDUARDO: BAUERS HAD TO GO A LONG WAY TO GET THAT BASEBALL. MOST LIKELY HE MAKES THIS PLAY AND THEN YOU HAVE A TAG UP WITH THE RUNNER AT SECOND. THINGS CHANGE FOR THE NEW YORK METS. THERE IS NO REASON FOR HIM TO BE TAGGING THE ONE OUT. DAVID: AWFUL BASERUNNING THAT HE GETS AWAY WITH. KARL: HE DOES. BAUERS AT THE WALL. THE THROW FROM TORRES DID NOT HAVE A BUNCH OF MUSTARD ON IT EITHER BECAUSE HE PROBABLY THOUGHT ESCOBAR HAD HIT HOME BASE. THE METS AND UP SPLITTING THE SUBWAY SERIES TWO GAMES THAT. DAVID: A VERY UGLY NIGHT TURNS INTO A HUGE WIN FOR THE METS. KARL: WHITE SOX LEAD THE DODGERS 2.2. WE WILL SEND YOU THERE RIGHT NOW. WE WILL SEE YOU SUNDAY NIGHT, RED SOX AND YANKEES. BRANDON NIMMO, THAT‘S THE BEAUTY OF BASEBALL. THE SUN USUALLY COMES UP BUT WE HAVE NOT SEEN THE SUN COME UP AFTER THAT BLUNDER. OUR ENTIRE CREW BACK IN BRISTOL LED BY ANDY JACOBSON, I AM KARL RAVECH. WE SEND YOU OUT WEST NOW TO THE DODGERS AND WHITE SOX.\n"
     ]
    }
   ],
   "source": [
    "def find_overlap(s1, s2, min_overlap=3):\n",
    "    \"\"\"Find the longest overlap between the end of s1 and start of s2.\"\"\"\n",
    "    max_overlap = 0\n",
    "    max_len = min(len(s1), len(s2))\n",
    "    for length in range(max_len, min_overlap - 1, -1):\n",
    "        if s1[-length:] == s2[:length]:\n",
    "            return length\n",
    "    return 0\n",
    "\n",
    "def reconstruct_text_with_overlap(fragments):\n",
    "    if not fragments:\n",
    "        return \"\"\n",
    "\n",
    "    result = fragments[0]\n",
    "    for current in fragments[1:]:\n",
    "        overlap_len = find_overlap(result, current)\n",
    "        # Append only the non-overlapping part of current\n",
    "        result += current[overlap_len:]\n",
    "    # Optional: normalize spaces\n",
    "    result = \" \".join(result.split())\n",
    "    return result\n",
    "\n",
    "\n",
    "\n",
    "text = reconstruct_text_with_overlap(timestamp_groups)\n",
    "print(text)\n",
    "\n"
   ]
  },
  {
   "cell_type": "code",
   "execution_count": 3,
   "metadata": {},
   "outputs": [],
   "source": [
    "import pickle as pkl\n",
    "\n",
    "with open('../../../data/game_code_map/map.pkl', 'rb') as fpath:\n",
    "    pkl.load(fpath)"
   ]
  },
  {
   "cell_type": "code",
   "execution_count": null,
   "metadata": {},
   "outputs": [],
   "source": []
  }
 ],
 "metadata": {
  "kernelspec": {
   "display_name": ".venv",
   "language": "python",
   "name": "python3"
  },
  "language_info": {
   "codemirror_mode": {
    "name": "ipython",
    "version": 3
   },
   "file_extension": ".py",
   "mimetype": "text/x-python",
   "name": "python",
   "nbconvert_exporter": "python",
   "pygments_lexer": "ipython3",
   "version": "3.10.0"
  }
 },
 "nbformat": 4,
 "nbformat_minor": 2
}
